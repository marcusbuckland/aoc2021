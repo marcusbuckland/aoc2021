{
 "cells": [
  {
   "cell_type": "markdown",
   "metadata": {},
   "source": [
    "### Advent of Code - Day 13"
   ]
  },
  {
   "cell_type": "markdown",
   "metadata": {},
   "source": [
    "#### Part 1"
   ]
  },
  {
   "cell_type": "code",
   "execution_count": 1,
   "metadata": {},
   "outputs": [],
   "source": [
    "import numpy as np\n",
    "\n",
    "fh = open(\"input.txt\", \"r\")\n",
    "contents, instructions = fh.read().split(\"\\n\\n\")\n",
    "\n",
    "contents = contents.splitlines()\n",
    "contents = list(map(str.split, contents))\n",
    "coords_list = []\n",
    "\n",
    "for coords in contents:\n",
    "    coords = coords[0].split(\",\")\n",
    "    c, r = coords\n",
    "    c, r = int(c), int(r)\n",
    "    coords_list.append([c, r])\n",
    "\n",
    "instructions = [x[2] for x in list(map(str.split, instructions.splitlines()))]\n",
    "instruction_list = []\n",
    "\n",
    "for instruction in instructions:\n",
    "    coord, num = instruction.split(\"=\")\n",
    "    instruction_list.append(coord)"
   ]
  },
  {
   "cell_type": "code",
   "execution_count": 9,
   "metadata": {},
   "outputs": [
    {
     "name": "stdout",
     "output_type": "stream",
     "text": [
      "Columns: 1311\n",
      "Rows: 895\n"
     ]
    }
   ],
   "source": [
    "num_cols = max([x[0] for x in coords_list]) + 1\n",
    "num_rows = max([x[1] for x in coords_list]) + 1\n",
    "\n",
    "print(f\"Columns: {num_cols}\")\n",
    "print(f\"Rows: {num_rows}\")"
   ]
  },
  {
   "cell_type": "code",
   "execution_count": 3,
   "metadata": {},
   "outputs": [],
   "source": [
    "paper = np.zeros((num_cols, num_rows), dtype=int)\n",
    "\n",
    "for c, r in coords_list:\n",
    "    paper[c][r] = '1'"
   ]
  },
  {
   "cell_type": "code",
   "execution_count": 4,
   "metadata": {},
   "outputs": [],
   "source": [
    "def fold_x(paper):\n",
    "    top, bottom = np.array_split(paper, 2, axis=0)\n",
    "    arr = np.add(top[:-1:], np.flip(bottom, axis=0))\n",
    "    arr[np.where(arr > 0)] = 1\n",
    "    return arr\n",
    "\n",
    "def fold_y(paper):\n",
    "    top, bottom = np.array_split(paper, 2, axis=1)\n",
    "    arr = np.add(top[:,:-1], np.flip(bottom, axis=1))\n",
    "    arr[np.where(arr>0)] = 1\n",
    "    return arr"
   ]
  },
  {
   "cell_type": "code",
   "execution_count": 5,
   "metadata": {},
   "outputs": [
    {
     "name": "stdout",
     "output_type": "stream",
     "text": [
      "Part one answer: 712\n"
     ]
    }
   ],
   "source": [
    "ans = np.sum(fold_x(paper)) if instruction_list[0] == 'x' else np.sum(fold_y(paper))\n",
    "print(f\"Part one answer: {ans}\")"
   ]
  },
  {
   "cell_type": "code",
   "execution_count": 19,
   "metadata": {},
   "outputs": [
    {
     "data": {
      "text/plain": [
       "(40, 6)"
      ]
     },
     "execution_count": 19,
     "metadata": {},
     "output_type": "execute_result"
    }
   ],
   "source": [
    "# Part 2\n",
    "\n",
    "arr = paper.copy()\n",
    "\n",
    "for instruction in instruction_list:\n",
    "    arr = fold_x(arr) if instruction == 'x' else fold_y(arr)\n",
    "\n",
    "arr.shape"
   ]
  },
  {
   "cell_type": "code",
   "execution_count": 29,
   "metadata": {},
   "outputs": [
    {
     "name": "stdout",
     "output_type": "stream",
     "text": [
      "[['#' '#' '#' '#' '#' '#']\n",
      " ['#' '.' '#' '.' '.' '#']\n",
      " ['#' '.' '#' '.' '.' '#']\n",
      " ['.' '#' '.' '#' '#' '.']\n",
      " ['.' '.' '.' '.' '.' '.']\n",
      " ['#' '#' '#' '#' '#' '#']\n",
      " ['.' '.' '.' '.' '.' '#']\n",
      " ['.' '.' '.' '.' '.' '#']\n",
      " ['.' '.' '.' '.' '.' '#']\n",
      " ['.' '.' '.' '.' '.' '.']\n",
      " ['#' '#' '#' '#' '#' '#']\n",
      " ['.' '.' '#' '.' '.' '.']\n",
      " ['.' '.' '#' '.' '.' '.']\n",
      " ['#' '#' '#' '#' '#' '#']\n",
      " ['.' '.' '.' '.' '.' '.']\n",
      " ['#' '#' '#' '#' '#' '#']\n",
      " ['#' '.' '#' '.' '.' '.']\n",
      " ['#' '.' '#' '.' '.' '.']\n",
      " ['#' '.' '.' '.' '.' '.']\n",
      " ['.' '.' '.' '.' '.' '.']\n",
      " ['.' '.' '.' '.' '#' '.']\n",
      " ['.' '.' '.' '.' '.' '#']\n",
      " ['#' '.' '.' '.' '.' '#']\n",
      " ['#' '#' '#' '#' '#' '.']\n",
      " ['.' '.' '.' '.' '.' '.']\n",
      " ['#' '#' '#' '#' '#' '#']\n",
      " ['#' '.' '.' '#' '.' '.']\n",
      " ['#' '.' '.' '#' '.' '.']\n",
      " ['.' '#' '#' '.' '.' '.']\n",
      " ['.' '.' '.' '.' '.' '.']\n",
      " ['.' '.' '.' '.' '#' '.']\n",
      " ['.' '.' '.' '.' '.' '#']\n",
      " ['#' '.' '.' '.' '.' '#']\n",
      " ['#' '#' '#' '#' '#' '.']\n",
      " ['.' '.' '.' '.' '.' '.']\n",
      " ['#' '#' '#' '#' '#' '#']\n",
      " ['#' '.' '#' '.' '.' '.']\n",
      " ['#' '.' '#' '.' '.' '.']\n",
      " ['#' '.' '.' '.' '.' '.']\n",
      " ['.' '.' '.' '.' '.' '.']]\n"
     ]
    }
   ],
   "source": [
    "text_arr = np.empty_like(arr, dtype=str)\n",
    "text_arr[np.where(arr==1)] = '#'\n",
    "text_arr[np.where(arr==0)] = '.'\n",
    "print(text_arr)"
   ]
  }
 ],
 "metadata": {
  "interpreter": {
   "hash": "aeccc05faa036809a938eeaa4505983c992d90f8a2b11a6e50bb0f235a83b219"
  },
  "kernelspec": {
   "display_name": "Python 3.10.0 64-bit",
   "language": "python",
   "name": "python3"
  },
  "language_info": {
   "codemirror_mode": {
    "name": "ipython",
    "version": 3
   },
   "file_extension": ".py",
   "mimetype": "text/x-python",
   "name": "python",
   "nbconvert_exporter": "python",
   "pygments_lexer": "ipython3",
   "version": "3.9.7"
  },
  "orig_nbformat": 4
 },
 "nbformat": 4,
 "nbformat_minor": 2
}
