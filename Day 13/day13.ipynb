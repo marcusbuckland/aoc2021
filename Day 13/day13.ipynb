{
 "cells": [
  {
   "cell_type": "code",
   "execution_count": 1,
   "metadata": {},
   "outputs": [],
   "source": [
    "#  Day 13\n",
    "import numpy as np"
   ]
  },
  {
   "cell_type": "code",
   "execution_count": null,
   "metadata": {},
   "outputs": [],
   "source": [
    "# Example input\n",
    "fh = open(\"example_input.txt\", \"r\")\n",
    "contents = fh.read().splitlines()\n",
    "contents = list(map(str.split, contents))\n",
    "\n",
    "coords_list = []\n",
    "\n",
    "for coords in contents:\n",
    "    coords = coords[0].split(\",\")\n",
    "    r, c = coords\n",
    "    r, c = int(r), int(c)\n",
    "    coords_list.append([r, c])"
   ]
  },
  {
   "cell_type": "code",
   "execution_count": 37,
   "metadata": {},
   "outputs": [],
   "source": [
    "# Real input\n",
    "fh = open(\"input.txt\", \"r\")\n",
    "contents = fh.read().splitlines()\n",
    "\n",
    "instructions = contents[-12:]\n",
    "contents = contents[:-13]\n",
    "\n",
    "contents = list(map(str.split, contents))\n",
    "\n",
    "coords_list = []\n",
    "\n",
    "for coords in contents:\n",
    "    coords = coords[0].split(\",\")\n",
    "    r, c = coords\n",
    "    r, c = int(r), int(c)\n",
    "    coords_list.append([r, c])\n",
    "\n",
    "instructions = [x[2] for x in list(map(str.split, instructions))]\n",
    "l = []\n",
    "for inst in instructions:\n",
    "    l.append(inst.split(\"=\"))\n",
    "instructions = l"
   ]
  },
  {
   "cell_type": "code",
   "execution_count": 50,
   "metadata": {},
   "outputs": [
    {
     "data": {
      "text/plain": [
       "['x=655',\n",
       " 'y=447',\n",
       " 'x=327',\n",
       " 'y=223',\n",
       " 'x=163',\n",
       " 'y=111',\n",
       " 'x=81',\n",
       " 'y=55',\n",
       " 'x=40',\n",
       " 'y=27',\n",
       " 'y=13',\n",
       " 'y=6']"
      ]
     },
     "execution_count": 50,
     "metadata": {},
     "output_type": "execute_result"
    }
   ],
   "source": [
    "# Marcus trying to be non-hackey\n",
    "\n",
    "fh = open(\"input.txt\", \"r\")\n",
    "contents, instructions = fh.read().split(\"\\n\\n\")\n",
    "\n",
    "contents = contents.splitlines()\n",
    "instructions = [x[2] for x in list(map(str.split, instructions.splitlines()))]\n",
    "instructions"
   ]
  },
  {
   "cell_type": "code",
   "execution_count": null,
   "metadata": {},
   "outputs": [],
   "source": []
  },
  {
   "cell_type": "code",
   "execution_count": 3,
   "metadata": {},
   "outputs": [],
   "source": [
    "max_cols = max([x[0] for x in coords_list]) + 1\n",
    "max_rows = max([x[1] for x in coords_list]) + 1"
   ]
  },
  {
   "cell_type": "code",
   "execution_count": 4,
   "metadata": {},
   "outputs": [
    {
     "name": "stdout",
     "output_type": "stream",
     "text": [
      "Rows: 895\n",
      "Columns: 1311\n"
     ]
    }
   ],
   "source": [
    "print(f\"Rows: {max_rows}\")\n",
    "print(f\"Columns: {max_cols}\")"
   ]
  },
  {
   "cell_type": "code",
   "execution_count": 5,
   "metadata": {},
   "outputs": [
    {
     "data": {
      "text/plain": [
       "853"
      ]
     },
     "execution_count": 5,
     "metadata": {},
     "output_type": "execute_result"
    }
   ],
   "source": [
    "paper = np.zeros((max_rows, max_cols), dtype=int)\n",
    "\n",
    "for r, c in coords_list:\n",
    "    paper[c][r] = '1'\n",
    "\n",
    "paper.sum()"
   ]
  },
  {
   "cell_type": "code",
   "execution_count": 6,
   "metadata": {},
   "outputs": [],
   "source": [
    "def fold_y(paper):\n",
    "    top, bottom = np.array_split(paper, 2, axis=0)\n",
    "    arr = np.add(top[:-1:], np.flip(bottom, axis=0))\n",
    "    arr[np.where(arr > 0)] = 1\n",
    "    return arr\n",
    "\n",
    "def fold_x(paper):\n",
    "    left, right = np.array_split(paper, 2, axis=1)\n",
    "    arr = np.add(left[:,:-1], np.flip(right, axis=1))\n",
    "    arr[np.where(arr>0)] = 1\n",
    "    return arr\n",
    "    \n",
    "    "
   ]
  },
  {
   "cell_type": "code",
   "execution_count": 8,
   "metadata": {},
   "outputs": [],
   "source": [
    "arr = fold_x(paper)"
   ]
  },
  {
   "cell_type": "code",
   "execution_count": 9,
   "metadata": {},
   "outputs": [
    {
     "data": {
      "text/plain": [
       "712"
      ]
     },
     "execution_count": 9,
     "metadata": {},
     "output_type": "execute_result"
    }
   ],
   "source": [
    "arr.sum()"
   ]
  },
  {
   "cell_type": "code",
   "execution_count": 10,
   "metadata": {},
   "outputs": [],
   "source": [
    "arr = paper\n",
    "\n",
    "for inst in instructions:\n",
    "    if inst[0] == 'x':\n",
    "        arr = fold_x(arr)\n",
    "    else:\n",
    "        arr = fold_y(arr)"
   ]
  },
  {
   "cell_type": "code",
   "execution_count": 27,
   "metadata": {},
   "outputs": [],
   "source": [
    "arr\n",
    "\n",
    "asci = np.zeros_like(arr, dtype=str)"
   ]
  },
  {
   "cell_type": "code",
   "execution_count": 28,
   "metadata": {},
   "outputs": [
    {
     "data": {
      "text/plain": [
       "array([['#', '#', '#', '.', '.', '#', '.', '.', '.', '.', '#', '.', '.',\n",
       "        '#', '.', '#', '#', '#', '#', '.', '.', '.', '#', '#', '.', '#',\n",
       "        '#', '#', '.', '.', '.', '.', '#', '#', '.', '#', '#', '#', '#',\n",
       "        '.'],\n",
       "       ['#', '.', '.', '#', '.', '#', '.', '.', '.', '.', '#', '.', '.',\n",
       "        '#', '.', '#', '.', '.', '.', '.', '.', '.', '.', '#', '.', '#',\n",
       "        '.', '.', '#', '.', '.', '.', '.', '#', '.', '#', '.', '.', '.',\n",
       "        '.'],\n",
       "       ['#', '#', '#', '.', '.', '#', '.', '.', '.', '.', '#', '#', '#',\n",
       "        '#', '.', '#', '#', '#', '.', '.', '.', '.', '.', '#', '.', '#',\n",
       "        '.', '.', '#', '.', '.', '.', '.', '#', '.', '#', '#', '#', '.',\n",
       "        '.'],\n",
       "       ['#', '.', '.', '#', '.', '#', '.', '.', '.', '.', '#', '.', '.',\n",
       "        '#', '.', '#', '.', '.', '.', '.', '.', '.', '.', '#', '.', '#',\n",
       "        '#', '#', '.', '.', '.', '.', '.', '#', '.', '#', '.', '.', '.',\n",
       "        '.'],\n",
       "       ['#', '.', '.', '#', '.', '#', '.', '.', '.', '.', '#', '.', '.',\n",
       "        '#', '.', '#', '.', '.', '.', '.', '#', '.', '.', '#', '.', '#',\n",
       "        '.', '.', '.', '.', '#', '.', '.', '#', '.', '#', '.', '.', '.',\n",
       "        '.'],\n",
       "       ['#', '#', '#', '.', '.', '#', '#', '#', '#', '.', '#', '.', '.',\n",
       "        '#', '.', '#', '.', '.', '.', '.', '.', '#', '#', '.', '.', '#',\n",
       "        '.', '.', '.', '.', '.', '#', '#', '.', '.', '#', '.', '.', '.',\n",
       "        '.']], dtype='<U1')"
      ]
     },
     "execution_count": 28,
     "metadata": {},
     "output_type": "execute_result"
    }
   ],
   "source": [
    "asci[np.where(arr == 1)] = '#'\n",
    "asci[np.where(arr == 0)] = '.'\n",
    "asci"
   ]
  },
  {
   "cell_type": "code",
   "execution_count": null,
   "metadata": {},
   "outputs": [],
   "source": [
    "['#', '#', '#', '.', '.', '#', '.', '.', '.', '.', '#', '.', '.', '#', '.', '#', '#', '#', '#', '.', '.', '.', '#', '#', '.', '#', '#', '#', '.', '.', '.', '.', '#', '#', '.', '#', '#', '#', '#', '.'],\n",
    "['#', '.', '.', '#', '.', '#', '.', '.', '.', '.', '#', '.', '.', '#', '.', '#', '.', '.', '.', '.', '.', '.', '.', '#', '.', '#', '.', '.', '#', '.', '.', '.', '.', '#', '.', '#', '.', '.', '.', '.'],\n",
    "['#', '#', '#', '.', '.', '#', '.', '.', '.', '.', '#', '#', '#', '#', '.', '#', '#', '#', '.', '.', '.', '.', '.', '#', '.', '#','.', '.', '#', '.', '.', '.', '.', '#', '.', '#', '#', '#', '.', '.'],\n",
    "['#', '.', '.', '#', '.', '#', '.', '.', '.', '.', '#', '.', '.', '#', '.', '#', '.', '.', '.', '.', '.', '.', '.', '#', '.', '#', '#', '#', '.', '.', '.', '.', '.', '#', '.', '#', '.', '.', '.', '.'],\n",
    "['#', '.', '.', '#', '.', '#', '.', '.', '.', '.', '#', '.', '.', '#', '.', '#', '.', '.', '.', '.', '#', '.', '.', '#', '.', '#', '.', '.', '.', '.', '#', '.', '.', '#', '.', '#', '.', '.', '.', '.'],\n",
    "['#', '#', '#', '.', '.', '#', '#', '#', '#', '.', '#', '.', '.','#', '.', '#', '.', '.', '.', '.', '.', '#', '#', '.', '.', '#','.', '.', '.', '.', '.', '#', '#', '.', '.', '#', '.', '.', '.','.']]"
   ]
  }
 ],
 "metadata": {
  "interpreter": {
   "hash": "aeccc05faa036809a938eeaa4505983c992d90f8a2b11a6e50bb0f235a83b219"
  },
  "kernelspec": {
   "display_name": "Python 3.10.0 64-bit",
   "language": "python",
   "name": "python3"
  },
  "language_info": {
   "codemirror_mode": {
    "name": "ipython",
    "version": 3
   },
   "file_extension": ".py",
   "mimetype": "text/x-python",
   "name": "python",
   "nbconvert_exporter": "python",
   "pygments_lexer": "ipython3",
   "version": "3.9.7"
  },
  "orig_nbformat": 4
 },
 "nbformat": 4,
 "nbformat_minor": 2
}
