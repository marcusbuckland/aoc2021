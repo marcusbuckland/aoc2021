{
 "cells": [
  {
   "cell_type": "code",
   "execution_count": null,
   "metadata": {},
   "outputs": [],
   "source": [
    "# Day 2 - Advent of Code 2021\n",
    "\n",
    "\n",
    "# Part One\n",
    "file = open(\"day2input.txt\", 'r')\n",
    "contents = file.read()\n",
    "instructions = contents.splitlines()\n"
   ]
  },
  {
   "cell_type": "code",
   "execution_count": 2,
   "metadata": {},
   "outputs": [],
   "source": [
    "horizontal = 0\n",
    "depth = 0\n",
    "aim = 0"
   ]
  },
  {
   "cell_type": "code",
   "execution_count": 3,
   "metadata": {},
   "outputs": [],
   "source": [
    "for instruction in instructions:\n",
    "    direction, amount = instruction.split()\n",
    "    if direction == 'forward':\n",
    "        horizontal += int(amount)\n",
    "        depth += int(amount) * aim\n",
    "    elif direction == 'down':\n",
    "        aim += int(amount)\n",
    "    else:\n",
    "        aim -= int(amount)"
   ]
  },
  {
   "cell_type": "code",
   "execution_count": 5,
   "metadata": {},
   "outputs": [
    {
     "name": "stdout",
     "output_type": "stream",
     "text": [
      "Part One: 1620141160\n"
     ]
    }
   ],
   "source": [
    "ans = horizontal * depth\n",
    "print(f\"Part One: {ans}\")"
   ]
  },
  {
   "cell_type": "code",
   "execution_count": null,
   "metadata": {},
   "outputs": [],
   "source": [
    "vertical"
   ]
  }
 ],
 "metadata": {
  "kernelspec": {
   "display_name": "Python 3",
   "language": "python",
   "name": "python3"
  },
  "language_info": {
   "codemirror_mode": {
    "name": "ipython",
    "version": 3
   },
   "file_extension": ".py",
   "mimetype": "text/x-python",
   "name": "python",
   "nbconvert_exporter": "python",
   "pygments_lexer": "ipython3",
   "version": "3.7.3"
  }
 },
 "nbformat": 4,
 "nbformat_minor": 4
}
