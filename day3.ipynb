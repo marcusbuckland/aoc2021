{
 "cells": [
  {
   "cell_type": "code",
   "execution_count": 1,
   "metadata": {},
   "outputs": [],
   "source": [
    "# Day 3 Advent of Code\n",
    "import pandas as pd\n",
    "\n",
    "file = open(\"day3input.txt\", 'r')\n",
    "contents = file.read() #Str with \\n\n",
    "diagnostics = contents.splitlines() # ['100001', '0011011']"
   ]
  },
  {
   "cell_type": "code",
   "execution_count": 2,
   "metadata": {},
   "outputs": [],
   "source": [
    "# Pandas dataframe - basically a spread-sheet / used to represent 2-dimensional data.\n",
    "df = pd.DataFrame(columns=[i for i in range(12)])"
   ]
  },
  {
   "cell_type": "code",
   "execution_count": 3,
   "metadata": {},
   "outputs": [],
   "source": [
    "for i in range(12):\n",
    "    df[i] = [j[i] for j in diagnostics]"
   ]
  },
  {
   "cell_type": "code",
   "execution_count": 4,
   "metadata": {},
   "outputs": [],
   "source": [
    "gamma = ''\n",
    "epsilon = ''\n",
    "\n",
    "for i in range(12):\n",
    "    gamma += df[i].mode()[0]\n",
    "    epsilon += '1' if df[i].mode()[0] == '0' else '0'"
   ]
  },
  {
   "cell_type": "code",
   "execution_count": null,
   "metadata": {},
   "outputs": [],
   "source": [
    "for number in gamma:\n",
    "    epsilon += '1' if number == '0' else '0'"
   ]
  },
  {
   "cell_type": "code",
   "execution_count": 5,
   "metadata": {},
   "outputs": [
    {
     "name": "stdout",
     "output_type": "stream",
     "text": [
      "110000111111\n",
      "001111000000\n"
     ]
    }
   ],
   "source": [
    "print(gamma)\n",
    "print(epsilon)"
   ]
  },
  {
   "cell_type": "code",
   "execution_count": 6,
   "metadata": {},
   "outputs": [
    {
     "data": {
      "text/plain": [
       "3009600"
      ]
     },
     "execution_count": 6,
     "metadata": {},
     "output_type": "execute_result"
    }
   ],
   "source": [
    "int(gamma, 2) * int(epsilon, 2) # Binary to decimal"
   ]
  },
  {
   "cell_type": "code",
   "execution_count": null,
   "metadata": {},
   "outputs": [],
   "source": [
    "# One way to do binary to decimal\n",
    "multiplier = 1\n",
    "total = 0\n",
    "for idx, bit in enumerate([int(i) for i in gamma[-1::-1]]):\n",
    "    total += multiplier * bit\n",
    "    multiplier *= 2\n",
    "print(total)"
   ]
  },
  {
   "cell_type": "code",
   "execution_count": null,
   "metadata": {},
   "outputs": [],
   "source": [
    "int(gamma,2) # Another way..."
   ]
  },
  {
   "cell_type": "code",
   "execution_count": null,
   "metadata": {},
   "outputs": [],
   "source": [
    "import numpy as np"
   ]
  },
  {
   "cell_type": "code",
   "execution_count": null,
   "metadata": {},
   "outputs": [],
   "source": [
    "# One more way for fun.\n",
    "np.dot([int(i) for i in gamma[-1::-1]], [2**i for i in range(12)])"
   ]
  },
  {
   "cell_type": "code",
   "execution_count": null,
   "metadata": {},
   "outputs": [],
   "source": [
    "##### Part Two #####\n",
    "from collections import Counter"
   ]
  },
  {
   "cell_type": "code",
   "execution_count": null,
   "metadata": {},
   "outputs": [],
   "source": [
    "small = [\n",
    "    '00100',\n",
    "    '11110',\n",
    "    '10110',\n",
    "    '10111',\n",
    "    '10101',\n",
    "    '01111',\n",
    "    '00111',\n",
    "    '11100',\n",
    "    '10000',\n",
    "    '11001',\n",
    "    '00010',\n",
    "    '01010',\n",
    "]"
   ]
  },
  {
   "cell_type": "code",
   "execution_count": null,
   "metadata": {},
   "outputs": [],
   "source": [
    "def get_oxygen(diagnostics, idx):\n",
    "    \"\"\"Looking for most common bit in the position. If a tie- keep the 1's.\"\"\"\n",
    "    \n",
    "    # Base Case\n",
    "    if len(diagnostics) == 1 : return diagnostics\n",
    "    \n",
    "    # Recursive Case\n",
    "    l = []\n",
    "    counter = Counter([i[idx] for i in diagnostics])\n",
    "    most_common = -1\n",
    "    if counter['0'] > counter['1'] :\n",
    "        most_common = '0'\n",
    "    else :\n",
    "        most_common = '1'\n",
    "    \n",
    "    for number in diagnostics:\n",
    "        if number[idx] == most_common:\n",
    "            l.append(number)\n",
    "    return get_oxygen(l, idx+1)"
   ]
  },
  {
   "cell_type": "code",
   "execution_count": null,
   "metadata": {},
   "outputs": [],
   "source": [
    "def get_co2(diagnostics, idx):\n",
    "    \"\"\"Looking for least common bit in the position. If a tie- keep the 1's.\"\"\"\n",
    "    \n",
    "    # Base Case\n",
    "    if len(diagnostics) == 1 : return diagnostics\n",
    "    \n",
    "    # Recursive Case\n",
    "    l = []\n",
    "    counter = Counter([i[idx] for i in diagnostics])\n",
    "    least_common = None\n",
    "    if counter['1'] < counter['0'] :\n",
    "        least_common = '1'\n",
    "    else :\n",
    "        least_common = '0'\n",
    "    \n",
    "    for number in diagnostics:\n",
    "        if number[idx] == least_common:\n",
    "            l.append(number)\n",
    "    return get_co2(l, idx+1)"
   ]
  },
  {
   "cell_type": "code",
   "execution_count": null,
   "metadata": {},
   "outputs": [],
   "source": [
    "get_oxygen(small, 0)"
   ]
  },
  {
   "cell_type": "code",
   "execution_count": null,
   "metadata": {},
   "outputs": [],
   "source": [
    "oxygen_str = get_oxygen(diagnostics, 0)[0]"
   ]
  },
  {
   "cell_type": "code",
   "execution_count": null,
   "metadata": {},
   "outputs": [],
   "source": [
    "co2_str = get_co2(diagnostics, 0)[0]"
   ]
  },
  {
   "cell_type": "code",
   "execution_count": null,
   "metadata": {},
   "outputs": [],
   "source": [
    "# Answer\n",
    "int(oxygen_str, 2) * int(co2_str, 2)"
   ]
  }
 ],
 "metadata": {
  "kernelspec": {
   "display_name": "Python 3",
   "language": "python",
   "name": "python3"
  },
  "language_info": {
   "codemirror_mode": {
    "name": "ipython",
    "version": 3
   },
   "file_extension": ".py",
   "mimetype": "text/x-python",
   "name": "python",
   "nbconvert_exporter": "python",
   "pygments_lexer": "ipython3",
   "version": "3.7.3"
  }
 },
 "nbformat": 4,
 "nbformat_minor": 4
}
