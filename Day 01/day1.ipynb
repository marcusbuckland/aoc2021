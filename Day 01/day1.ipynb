{
 "cells": [
  {
   "cell_type": "markdown",
   "metadata": {},
   "source": [
    "### Advent of Code - Day 1"
   ]
  },
  {
   "cell_type": "markdown",
   "metadata": {},
   "source": [
    "#### Part 1"
   ]
  },
  {
   "cell_type": "code",
   "execution_count": 1,
   "metadata": {},
   "outputs": [],
   "source": [
    "fh = open(\"input.txt\", 'r')\n",
    "contents = fh.read().splitlines()\n",
    "numbers = list(map(int, contents))"
   ]
  },
  {
   "cell_type": "code",
   "execution_count": 2,
   "metadata": {},
   "outputs": [
    {
     "name": "stdout",
     "output_type": "stream",
     "text": [
      "Part One: 1564\n"
     ]
    }
   ],
   "source": [
    "count = 0\n",
    "prev_num = numbers[0]\n",
    "\n",
    "for number in numbers[1:]:\n",
    "    count += 1 if number > prev_num else 0\n",
    "    prev_num = number\n",
    "\n",
    "print(\"Part One:\", count) # 1564"
   ]
  },
  {
   "cell_type": "markdown",
   "metadata": {},
   "source": [
    "#### Part 2"
   ]
  },
  {
   "cell_type": "code",
   "execution_count": 3,
   "metadata": {},
   "outputs": [
    {
     "name": "stdout",
     "output_type": "stream",
     "text": [
      "Part Two: 1611\n"
     ]
    }
   ],
   "source": [
    "count = 0\n",
    "prev_measurement = sum(numbers[:3])\n",
    "\n",
    "for i in range(1, len(numbers) - 2):\n",
    "    measurement = sum(numbers[i:i+3])\n",
    "    count += 1 if measurement > prev_measurement else 0\n",
    "    prev_measurement = measurement\n",
    "\n",
    "print(f\"Part Two: {count}\")"
   ]
  }
 ],
 "metadata": {
  "interpreter": {
   "hash": "ce45040ef85c52ba356b485034aeffca3231b8092f58cd91350dbeb23fbeb98b"
  },
  "kernelspec": {
   "display_name": "Python 3.9.7 64-bit ('base': conda)",
   "language": "python",
   "name": "python3"
  },
  "language_info": {
   "codemirror_mode": {
    "name": "ipython",
    "version": 3
   },
   "file_extension": ".py",
   "mimetype": "text/x-python",
   "name": "python",
   "nbconvert_exporter": "python",
   "pygments_lexer": "ipython3",
   "version": "3.9.7"
  },
  "orig_nbformat": 4
 },
 "nbformat": 4,
 "nbformat_minor": 2
}
