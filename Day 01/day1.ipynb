{
 "cells": [
  {
   "cell_type": "markdown",
   "metadata": {},
   "source": [
    "### Advent of Code - Day 1"
   ]
  },
  {
   "cell_type": "markdown",
   "metadata": {},
   "source": [
    "#### Part 1"
   ]
  },
  {
   "cell_type": "code",
   "execution_count": 1,
   "metadata": {},
   "outputs": [],
   "source": [
    "fh = open(\"input.txt\", 'r')\n",
    "contents = fh.read().splitlines()\n",
    "numbers = list(map(int, contents))"
   ]
  },
  {
   "cell_type": "code",
   "execution_count": 2,
   "metadata": {},
   "outputs": [
    {
     "name": "stdout",
     "output_type": "stream",
     "text": [
      "Part One: 1564\n"
     ]
    }
   ],
   "source": [
    "count = 0\n",
    "prev_num = numbers[0]\n",
    "\n",
    "for number in numbers[1:]:\n",
    "    count += 1 if number > prev_num else 0\n",
    "    prev_num = number\n",
    "\n",
    "print(\"Part One:\", count) # 1564"
   ]
  },
  {
   "cell_type": "markdown",
   "metadata": {},
   "source": [
    "#### Part 2"
   ]
  },
  {
   "cell_type": "code",
   "execution_count": 3,
   "metadata": {},
   "outputs": [
    {
     "name": "stdout",
     "output_type": "stream",
     "text": [
      "Part Two: 1611\n"
     ]
    }
   ],
   "source": [
    "count = 0\n",
    "prev_measurement = sum(numbers[:3])\n",
    "\n",
    "for i in range(1, len(numbers) - 2):\n",
    "    measurement = sum(numbers[i:i+3])\n",
    "    count += 1 if measurement > prev_measurement else 0\n",
    "    prev_measurement = measurement\n",
    "\n",
    "print(f\"Part Two: {count}\")"
   ]
  }
 ],
 "metadata": {
  "kernelspec": {
   "display_name": "Python 3.9.7 ('base')",
   "language": "python",
   "name": "python3"
  },
  "language_info": {
   "codemirror_mode": {
    "name": "ipython",
    "version": 3
   },
   "file_extension": ".py",
   "mimetype": "text/x-python",
   "name": "python",
   "nbconvert_exporter": "python",
   "pygments_lexer": "ipython3",
   "version": "3.11.5"
  },
  "orig_nbformat": 4,
  "vscode": {
   "interpreter": {
    "hash": "2015bda94f99312324182a6da2c0335845869d8cccbe791e6d71b6a750717475"
   }
  }
 },
 "nbformat": 4,
 "nbformat_minor": 2
}
