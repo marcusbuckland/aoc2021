{
 "cells": [
  {
   "cell_type": "markdown",
   "metadata": {},
   "source": [
    "### Advent of Code - Day 8"
   ]
  },
  {
   "cell_type": "markdown",
   "metadata": {},
   "source": [
    "#### Part 1"
   ]
  },
  {
   "cell_type": "code",
   "execution_count": 1,
   "metadata": {},
   "outputs": [],
   "source": [
    "from collections import Counter\n",
    "\n",
    "fh = open(\"input.txt\", \"r\")\n",
    "contents = fh.read().splitlines()"
   ]
  },
  {
   "cell_type": "code",
   "execution_count": 2,
   "metadata": {},
   "outputs": [],
   "source": [
    "scrambled_signals = []\n",
    "scrambled_outputs = []\n",
    "\n",
    "for line in contents:\n",
    "    signal, output = line.split(\" | \")\n",
    "    scrambled_signals.append(signal.split())\n",
    "    scrambled_outputs.append(output.split())"
   ]
  },
  {
   "cell_type": "code",
   "execution_count": 3,
   "metadata": {},
   "outputs": [
    {
     "name": "stdout",
     "output_type": "stream",
     "text": [
      "Part 1 answer: 421\n"
     ]
    }
   ],
   "source": [
    "count = 0\n",
    "for values in scrambled_outputs:\n",
    "    for value in values:\n",
    "        if len(value) in [2, 4, 3, 7]:\n",
    "            count += 1\n",
    "\n",
    "print(f\"Part 1 answer: {count}\")"
   ]
  },
  {
   "cell_type": "markdown",
   "metadata": {},
   "source": [
    "#### Part 2"
   ]
  },
  {
   "cell_type": "code",
   "execution_count": 4,
   "metadata": {},
   "outputs": [],
   "source": [
    "# code_to_num maps the decoded code string to the number it represents.\n",
    "numbers = ['abcefg', 'cf', 'acdeg', 'acdfg', 'bcdf', 'abdfg', 'abdefg', 'acf', 'abcdefg', 'abcdfg']\n",
    "code_to_num = dict(zip(numbers, [i for i in range(10)]))"
   ]
  },
  {
   "cell_type": "code",
   "execution_count": 5,
   "metadata": {},
   "outputs": [],
   "source": [
    "def get_decoder(scrambled_signal):\n",
    "    \"\"\"\n",
    "    This code creates a dictionary which maps scrambled letters to the letter they represent \n",
    "    in a seven-segment display.\n",
    "\n",
    "    Example of seven-segment display showing letter position:\n",
    "     aaaa\n",
    "    b    c\n",
    "    b    c\n",
    "     dddd \n",
    "    e    f\n",
    "    e    f\n",
    "     gggg\n",
    "    \"\"\"\n",
    "    decoder = {} # Maps scrambled letter to the real letter.\n",
    "\n",
    "    one_letter = '' # helpful to find the real 'c'\n",
    "    four_letters = '' # helfpul to find the real 'd'\n",
    "\n",
    "    ONE = next(filter(lambda x: len(x) == 2, scrambled_signal))\n",
    "    FOUR = next(filter(lambda x: len(x) == 4, scrambled_signal))\n",
    "    SEVEN = next(filter(lambda x: len(x) == 3, scrambled_signal))\n",
    "\n",
    "    signal_str = \"\".join(scrambled_signal)\n",
    "    c = Counter(signal_str)\n",
    "\n",
    "    for letter, count in c.items():\n",
    "        if count == 4:\n",
    "            decoder[letter] = 'e'\n",
    "        if count == 6:\n",
    "            decoder[letter] = 'b'\n",
    "            four_letters += letter\n",
    "        if count == 9:\n",
    "            decoder[letter] = 'f'\n",
    "            one_letter = letter\n",
    "            four_letters += letter\n",
    "\n",
    "\n",
    "    # Get the code for the 'c' position - it is the other letter that isn't coded to 'f'\n",
    "    key = next(filter(lambda x: x is not one_letter, list(ONE)))\n",
    "    decoder[key] = 'c'\n",
    "    four_letters += key\n",
    "\n",
    "    # Get the code for the 'a' position - it is the letter that is present in SEVEN but not in ONE\n",
    "    key = [item for item in SEVEN if item not in ONE][0]\n",
    "    decoder[key] = 'a'\n",
    "\n",
    "    # Get the code for the 'd' position because I know the code for FOUR and I know 'b', 'c', and 'f'.\n",
    "    key = [item for item in FOUR if item not in four_letters][0]\n",
    "    decoder[key] = 'd'\n",
    "\n",
    "    # Finally, we can infer the real 'g' because it's the last letter remaining.\n",
    "    key = [item for item in ['a', 'b', 'c', 'd', 'e', 'f', 'g'] if item not in list(decoder.keys())][0]\n",
    "    decoder[key] = 'g'\n",
    "\n",
    "    return decoder"
   ]
  },
  {
   "cell_type": "code",
   "execution_count": 6,
   "metadata": {},
   "outputs": [],
   "source": [
    "def get_decoded_outputs(decoder, scrambled_output):\n",
    "    \"\"\"\n",
    "    Uses the decoder to convert the scrambled codes into the code strings that represent the positions\n",
    "    in the seven-segment display.\n",
    "    \"\"\"\n",
    "    decoded_outputs = []\n",
    "    for code in scrambled_output:\n",
    "        decoded_code = \"\"\n",
    "        for letter in code:\n",
    "            decoded_code += decoder[letter]\n",
    "        decoded_outputs.append(\"\".join(sorted(decoded_code)))\n",
    "\n",
    "    return decoded_outputs\n"
   ]
  },
  {
   "cell_type": "code",
   "execution_count": 7,
   "metadata": {},
   "outputs": [],
   "source": [
    "def get_numbers(decoded_outputs):\n",
    "    \"\"\"\n",
    "    This returns the number in the output section of the puzzle input.\n",
    "    \"\"\"\n",
    "    number = \"\"\n",
    "    for code in decoded_outputs:\n",
    "        number += str(code_to_num[code])\n",
    "    return int(number)"
   ]
  },
  {
   "cell_type": "code",
   "execution_count": 8,
   "metadata": {},
   "outputs": [
    {
     "name": "stdout",
     "output_type": "stream",
     "text": [
      "Part 2 answer: 986163\n"
     ]
    }
   ],
   "source": [
    "numbers = []\n",
    "\n",
    "for ix, scrambled_signal in enumerate(scrambled_signals):\n",
    "    decoder = get_decoder(scrambled_signal)\n",
    "    \n",
    "    # Use decoder to decode the scrambled output\n",
    "    scrambled_output = scrambled_outputs[ix]\n",
    "    decoded_outputs = get_decoded_outputs(decoder, scrambled_output)\n",
    "    numbers.append(get_numbers(decoded_outputs))\n",
    "\n",
    "print(f\"Part 2 answer: {sum(numbers)}\") # 986163"
   ]
  }
 ],
 "metadata": {
  "interpreter": {
   "hash": "ce45040ef85c52ba356b485034aeffca3231b8092f58cd91350dbeb23fbeb98b"
  },
  "kernelspec": {
   "display_name": "Python 3.9.7 64-bit ('base': conda)",
   "language": "python",
   "name": "python3"
  },
  "language_info": {
   "codemirror_mode": {
    "name": "ipython",
    "version": 3
   },
   "file_extension": ".py",
   "mimetype": "text/x-python",
   "name": "python",
   "nbconvert_exporter": "python",
   "pygments_lexer": "ipython3",
   "version": "3.9.7"
  },
  "orig_nbformat": 4
 },
 "nbformat": 4,
 "nbformat_minor": 2
}
