{
 "cells": [
  {
   "cell_type": "markdown",
   "metadata": {},
   "source": [
    "### Advent of Code - Day 2"
   ]
  },
  {
   "cell_type": "markdown",
   "metadata": {},
   "source": [
    "#### Part 1"
   ]
  },
  {
   "cell_type": "code",
   "execution_count": 2,
   "metadata": {},
   "outputs": [],
   "source": [
    "fh = open(\"input.txt\", 'r')\n",
    "contents = fh.read()\n",
    "instructions = contents.splitlines()\n",
    "\n",
    "horizontal = 0\n",
    "depth = 0\n",
    "aim = 0\n"
   ]
  },
  {
   "cell_type": "code",
   "execution_count": 8,
   "metadata": {},
   "outputs": [
    {
     "name": "stdout",
     "output_type": "stream",
     "text": [
      "Part 1 answer: 1451208\n"
     ]
    }
   ],
   "source": [
    "horizontal = 0\n",
    "depth = 0\n",
    "aim = 0\n",
    "\n",
    "for instruction in instructions:\n",
    "    direction, amount = instruction.split()\n",
    "    if direction == 'forward':\n",
    "        horizontal += int(amount)\n",
    "    elif direction == 'down':\n",
    "        depth += int(amount)\n",
    "    else:\n",
    "        depth -= int(amount)\n",
    "\n",
    "ans = horizontal * depth\n",
    "print(f\"Part 1 answer: {ans}\")"
   ]
  },
  {
   "cell_type": "markdown",
   "metadata": {},
   "source": [
    "#### Part 2"
   ]
  },
  {
   "cell_type": "code",
   "execution_count": 9,
   "metadata": {},
   "outputs": [
    {
     "name": "stdout",
     "output_type": "stream",
     "text": [
      "Part 2 answer: 1620141160\n"
     ]
    }
   ],
   "source": [
    "horizontal = 0\n",
    "depth = 0\n",
    "aim = 0\n",
    "\n",
    "for instruction in instructions:\n",
    "    direction, amount = instruction.split()\n",
    "    if direction == 'forward':\n",
    "        horizontal += int(amount)\n",
    "        depth += int(amount) * aim\n",
    "    elif direction == 'down':\n",
    "        aim += int(amount)\n",
    "    else:\n",
    "        aim -= int(amount)\n",
    "\n",
    "ans = horizontal * depth\n",
    "print(f\"Part 2 answer: {ans}\")"
   ]
  }
 ],
 "metadata": {
  "kernelspec": {
   "display_name": "Python 3",
   "language": "python",
   "name": "python3"
  },
  "language_info": {
   "codemirror_mode": {
    "name": "ipython",
    "version": 3
   },
   "file_extension": ".py",
   "mimetype": "text/x-python",
   "name": "python",
   "nbconvert_exporter": "python",
   "pygments_lexer": "ipython3",
   "version": "3.9.7"
  }
 },
 "nbformat": 4,
 "nbformat_minor": 4
}
