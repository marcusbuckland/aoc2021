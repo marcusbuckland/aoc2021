{
 "cells": [
  {
   "cell_type": "markdown",
   "metadata": {},
   "source": [
    "### Advent of Code - Day 7"
   ]
  },
  {
   "cell_type": "markdown",
   "metadata": {},
   "source": [
    "#### Part 1"
   ]
  },
  {
   "cell_type": "code",
   "execution_count": 1,
   "metadata": {},
   "outputs": [],
   "source": [
    "import math\n",
    "\n",
    "fh = open(\"input.txt\", \"r\")\n",
    "contents = fh.read().split(\",\")\n",
    "numbers = list(map(int, contents))"
   ]
  },
  {
   "cell_type": "code",
   "execution_count": 2,
   "metadata": {},
   "outputs": [],
   "source": [
    "def calculate_fuel(numbers, target):\n",
    "    total_fuel = 0\n",
    "    for n in numbers:\n",
    "        total_fuel += abs(n - target)\n",
    "    return total_fuel"
   ]
  },
  {
   "cell_type": "code",
   "execution_count": 3,
   "metadata": {},
   "outputs": [
    {
     "name": "stdout",
     "output_type": "stream",
     "text": [
      "37\n",
      "41\n",
      "39\n",
      "71\n"
     ]
    }
   ],
   "source": [
    "# Check function on example data\n",
    "small = [16, 1, 2, 0, 4, 2, 7, 1, 2, 14]\n",
    "print(calculate_fuel(small, 2))\n",
    "print(calculate_fuel(small, 1))\n",
    "print(calculate_fuel(small, 3))\n",
    "print(calculate_fuel(small, 10))"
   ]
  },
  {
   "cell_type": "code",
   "execution_count": 4,
   "metadata": {},
   "outputs": [
    {
     "name": "stdout",
     "output_type": "stream",
     "text": [
      "Part 1 answer: 347509\n"
     ]
    }
   ],
   "source": [
    "best = math.inf\n",
    "for i in range(0, 2000):\n",
    "    fuel = calculate_fuel(numbers, i)\n",
    "    if fuel < best:\n",
    "        best = fuel\n",
    "        best_i = i\n",
    "\n",
    "print(f\"Part 1 answer: {best}\")"
   ]
  },
  {
   "cell_type": "markdown",
   "metadata": {},
   "source": [
    "#### Part Two"
   ]
  },
  {
   "cell_type": "code",
   "execution_count": 5,
   "metadata": {},
   "outputs": [],
   "source": [
    "def calculate_fuel_p2(numbers, target):\n",
    "    total_fuel = 0\n",
    "    for n in numbers:\n",
    "        distance = abs(n - target)\n",
    "        total_fuel += math.comb(distance+1, 2) # Triangular number\n",
    "    return total_fuel"
   ]
  },
  {
   "cell_type": "code",
   "execution_count": 6,
   "metadata": {},
   "outputs": [
    {
     "name": "stdout",
     "output_type": "stream",
     "text": [
      "168\n",
      "206\n"
     ]
    }
   ],
   "source": [
    "# Check function on example data\n",
    "print(calculate_fuel_p2(small, 5))\n",
    "print(calculate_fuel_p2(small, 2))"
   ]
  },
  {
   "cell_type": "code",
   "execution_count": 7,
   "metadata": {},
   "outputs": [
    {
     "name": "stdout",
     "output_type": "stream",
     "text": [
      "Part 2 answer: 98257206\n"
     ]
    }
   ],
   "source": [
    "best = math.inf\n",
    "for i in range(0, 2000):\n",
    "    fuel = calculate_fuel_p2(numbers, i)\n",
    "    if fuel < best:\n",
    "        best = fuel\n",
    "        best_i = i\n",
    "\n",
    "print(f\"Part 2 answer: {best}\")"
   ]
  }
 ],
 "metadata": {
  "interpreter": {
   "hash": "ce45040ef85c52ba356b485034aeffca3231b8092f58cd91350dbeb23fbeb98b"
  },
  "kernelspec": {
   "display_name": "Python 3.9.7 64-bit ('base': conda)",
   "language": "python",
   "name": "python3"
  },
  "language_info": {
   "codemirror_mode": {
    "name": "ipython",
    "version": 3
   },
   "file_extension": ".py",
   "mimetype": "text/x-python",
   "name": "python",
   "nbconvert_exporter": "python",
   "pygments_lexer": "ipython3",
   "version": "3.9.7"
  },
  "orig_nbformat": 4
 },
 "nbformat": 4,
 "nbformat_minor": 2
}
