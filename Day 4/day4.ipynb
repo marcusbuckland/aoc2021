{
 "cells": [
  {
   "cell_type": "markdown",
   "metadata": {},
   "source": [
    "### Advent of Code - Day 4"
   ]
  },
  {
   "cell_type": "markdown",
   "metadata": {},
   "source": [
    "#### Part 1"
   ]
  },
  {
   "cell_type": "code",
   "execution_count": 1,
   "metadata": {},
   "outputs": [],
   "source": [
    "import numpy as np\n",
    "\n",
    "fh = open(\"input.txt\", 'r')\n",
    "contents = fh.read().split(\"\\n\")\n",
    "numbers = contents[0].split(\",\")\n",
    "\n",
    "# Remove the blanks\n",
    "contents = [row for row in contents[2:] if row != \"\"]\n",
    "\n",
    "boards = [] # List to store all of the boards.\n",
    "\n",
    "for i in range(0, len(contents), 5):\n",
    "    board = []\n",
    "    for j in range(5):\n",
    "        board.append(contents[i+j].split())\n",
    "    boards.append(board)\n"
   ]
  },
  {
   "cell_type": "code",
   "execution_count": 2,
   "metadata": {},
   "outputs": [
    {
     "name": "stdout",
     "output_type": "stream",
     "text": [
      "Boards shape: (100, 5, 5)\n",
      "hits shape: (100, 5, 5)\n",
      "hits sum: 0.0\n"
     ]
    }
   ],
   "source": [
    "boards = np.array(boards)\n",
    "hits = np.zeros_like(boards, dtype=np.float64) # Make a separate np array with all zeros.\n",
    "\n",
    "# As we get hits on the bingo boards, change the zeros to 1's.\n",
    "print(f\"Boards shape: {boards.shape}\")\n",
    "print(f\"hits shape: {hits.shape}\")\n",
    "print(f\"hits sum: {hits.sum()}\")\n"
   ]
  },
  {
   "cell_type": "code",
   "execution_count": 3,
   "metadata": {},
   "outputs": [],
   "source": [
    "def check_rows(boards):\n",
    "    for board_ix, board in enumerate(boards):\n",
    "        row_sums = board.sum(axis=1) # Sum the rows.\n",
    "        if 5 in row_sums:\n",
    "            row_ix = np.where(board.sum(axis=1) == 5)[0].item()\n",
    "            return board_ix\n",
    "    return False\n",
    "\n",
    "def check_cols(boards):\n",
    "    for board_ix, board in enumerate(boards):\n",
    "        col_sums = board.sum(axis=0) # Sum the cols.\n",
    "        if 5 in col_sums:\n",
    "            col_ix = np.where(board.sum(axis=0) == 5)[0].item()\n",
    "            return board_ix\n",
    "    return False\n"
   ]
  },
  {
   "cell_type": "code",
   "execution_count": 4,
   "metadata": {},
   "outputs": [],
   "source": [
    "winning_number = None\n",
    "winning_board = None\n",
    "\n",
    "for number in numbers:\n",
    "    for i, board in enumerate(boards):\n",
    "        for j, row in enumerate(board):\n",
    "            if number in row:\n",
    "                k = np.where(row == number)[0][0] # Index value of number\n",
    "                hits[i][j][k] = 1.0 # Change the 1 to a 0 in hits\n",
    "    \n",
    "    # Now check if any boards win\n",
    "\n",
    "    # Check rows\n",
    "    row_check = check_rows(hits)\n",
    "    if bool(row_check) :\n",
    "        winning_number = float(number)\n",
    "        winning_board = row_check\n",
    "        break\n",
    "    \n",
    "    # Check cols\n",
    "    col_check = check_cols(hits)\n",
    "    if bool(col_check):\n",
    "        winning_number = float(number)\n",
    "        winning_board = col_check\n",
    "        break"
   ]
  },
  {
   "cell_type": "code",
   "execution_count": 5,
   "metadata": {},
   "outputs": [
    {
     "data": {
      "text/plain": [
       "8442"
      ]
     },
     "execution_count": 5,
     "metadata": {},
     "output_type": "execute_result"
    }
   ],
   "source": [
    "# Answer for Part 1\n",
    "int(np.sum(np.ma.masked_array(boards[winning_board], hits[winning_board], dtype=np.float64)) * winning_number)"
   ]
  },
  {
   "cell_type": "markdown",
   "metadata": {},
   "source": [
    "#### Part 2"
   ]
  },
  {
   "cell_type": "code",
   "execution_count": 6,
   "metadata": {},
   "outputs": [],
   "source": [
    "hits = np.zeros_like(boards, dtype=np.float64) # Make a separate np array with all zeros.\n",
    "\n",
    "def check_rows_p2(boards, winning_boards):\n",
    "    ixs = []\n",
    "    for board_ix, board in enumerate(boards):\n",
    "        row_sums = board.sum(axis=1) # Sum the rows.\n",
    "        if 5 in row_sums and board_ix not in winning_boards:\n",
    "            ixs.append(board_ix)\n",
    "    return ixs\n",
    "\n",
    "def check_cols_p2(boards, winning_boards):\n",
    "    ixs = []\n",
    "    for board_ix, board in enumerate(boards):\n",
    "        col_sums = board.sum(axis=0) # Sum the cols.\n",
    "        if 5 in col_sums and board_ix not in winning_boards:\n",
    "            ixs.append(board_ix)\n",
    "    return ixs"
   ]
  },
  {
   "cell_type": "code",
   "execution_count": 7,
   "metadata": {},
   "outputs": [],
   "source": [
    "winning_boards = []\n",
    "\n",
    "for number in numbers:\n",
    "    for i, board in enumerate(boards):\n",
    "        for j, row in enumerate(board):\n",
    "            if number in row:\n",
    "                k = np.where(row == number)[0][0] # Index value of number\n",
    "                hits[i][j][k] = 1.0 # Change the 1 to a 0 in hits\n",
    "    \n",
    "    # Now find the winning boards.\n",
    "\n",
    "    # Check rows\n",
    "    row_check = check_rows_p2(hits, winning_boards)\n",
    "    if bool(row_check) :\n",
    "        winning_boards += row_check\n",
    "    \n",
    "    # Check cols\n",
    "    col_check = check_cols_p2(hits, winning_boards)\n",
    "    if bool(col_check):\n",
    "        winning_boards += col_check\n",
    "\n",
    "    if len(winning_boards) == 100:\n",
    "        worst_board = winning_boards[-1]\n",
    "        worst_number = int(number)\n",
    "        break"
   ]
  },
  {
   "cell_type": "code",
   "execution_count": 8,
   "metadata": {},
   "outputs": [
    {
     "data": {
      "text/plain": [
       "4590"
      ]
     },
     "execution_count": 8,
     "metadata": {},
     "output_type": "execute_result"
    }
   ],
   "source": [
    "# Answer for Part 2\n",
    "int(np.sum(np.ma.masked_array(boards[worst_board], hits[worst_board], dtype=np.float64)) * worst_number)"
   ]
  }
 ],
 "metadata": {
  "kernelspec": {
   "display_name": "Python 3",
   "language": "python",
   "name": "python3"
  },
  "language_info": {
   "codemirror_mode": {
    "name": "ipython",
    "version": 3
   },
   "file_extension": ".py",
   "mimetype": "text/x-python",
   "name": "python",
   "nbconvert_exporter": "python",
   "pygments_lexer": "ipython3",
   "version": "3.9.7"
  }
 },
 "nbformat": 4,
 "nbformat_minor": 4
}
