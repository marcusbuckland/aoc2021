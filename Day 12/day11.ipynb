{
 "cells": [
  {
   "cell_type": "markdown",
   "metadata": {},
   "source": [
    "### Advent of Code 2021"
   ]
  },
  {
   "cell_type": "markdown",
   "metadata": {},
   "source": [
    "#### Part 1"
   ]
  },
  {
   "cell_type": "code",
   "execution_count": null,
   "metadata": {},
   "outputs": [],
   "source": [
    "f = open(\"ex1.txt\", \"r\")\n",
    "contents = f.read().splitlines()\n",
    "contents: list[tuple[str, str]] = [x.split(\"-\") for x in contents]\n",
    "\n",
    "# List of all connections in the graph. A connection is a tuple of (a, b) where a and b are nodes.\n",
    "connections: list[tuple[str, str]] = [(a, b) for a, b in contents] + [(b, a) for a, b in contents]\n",
    "\n",
    "def get_neighbours(node: str, connections: list[tuple[str, str]]) -> list[str]: \n",
    "    \"\"\"\n",
    "    Helper function that returns a list of all of node's neighbours, provided a list of all\n",
    "    connections in the graph.\"\"\"\n",
    "    return [x[1] for x in list(filter(lambda x: x[0]==node, connections))]\n",
    "\n",
    "# neighbours dict- key is a node in the graph, and corresponding value is that nodes neighbours.\n",
    "neighbours = {}\n",
    "nodes = set([n[0] for n in connections]) # Set of all nodes in the graph.\n",
    "\n",
    "for node in nodes:\n",
    "    neighbours[node] = get_neighbours(node, connections)"
   ]
  },
  {
   "cell_type": "code",
   "execution_count": null,
   "metadata": {},
   "outputs": [],
   "source": [
    "import copy"
   ]
  },
  {
   "cell_type": "code",
   "execution_count": null,
   "metadata": {},
   "outputs": [],
   "source": [
    "# New\n",
    "def find_path(node: str, visited: set[str], path: list[str], spaces: str = \"\") -> list[str]:\n",
    "    spaces += \"    \"\n",
    "    print(f\"{spaces}Node is currently: {node}\")\n",
    "    \n",
    "    if node == \"end\": \n",
    "        path.append(node)\n",
    "        valid_paths.append(copy.copy(path))\n",
    "        return True\n",
    "\n",
    "    visited.add(node) # added 'start', 'A', 'b', \n",
    "    path.append(node) # Here some incorrect nodes get added.\n",
    "\n",
    "    for neigh in get_neighbours(node, connections):\n",
    "            if neigh not in visited:\n",
    "                find_path(neigh, visited, path, spaces)\n",
    "\n",
    "    # Backtrack\n",
    "    path.pop()\n",
    "    return False"
   ]
  },
  {
   "cell_type": "code",
   "execution_count": null,
   "metadata": {},
   "outputs": [],
   "source": [
    "valid_paths = []\n",
    "find_path(\"start\", set(), list())"
   ]
  },
  {
   "cell_type": "code",
   "execution_count": null,
   "metadata": {},
   "outputs": [],
   "source": [
    "valid_paths"
   ]
  }
 ],
 "metadata": {
  "interpreter": {
   "hash": "aeccc05faa036809a938eeaa4505983c992d90f8a2b11a6e50bb0f235a83b219"
  },
  "kernelspec": {
   "display_name": "Python 3.10.0 64-bit",
   "language": "python",
   "name": "python3"
  },
  "language_info": {
   "codemirror_mode": {
    "name": "ipython",
    "version": 3
   },
   "file_extension": ".py",
   "mimetype": "text/x-python",
   "name": "python",
   "nbconvert_exporter": "python",
   "pygments_lexer": "ipython3",
   "version": "3.9.7"
  },
  "orig_nbformat": 4
 },
 "nbformat": 4,
 "nbformat_minor": 2
}
