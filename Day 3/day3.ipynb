{
 "cells": [
  {
   "cell_type": "markdown",
   "metadata": {},
   "source": [
    "### Advent of Code - Day 3"
   ]
  },
  {
   "cell_type": "markdown",
   "metadata": {},
   "source": [
    "#### Part 1"
   ]
  },
  {
   "cell_type": "code",
   "execution_count": 1,
   "metadata": {},
   "outputs": [],
   "source": [
    "import pandas as pd\n",
    "import numpy as np\n",
    "from collections import Counter\n",
    "\n",
    "fh = open(\"input.txt\", 'r')\n",
    "contents = fh.read() \n",
    "diagnostics = contents.splitlines() # ['100001', '0011011']"
   ]
  },
  {
   "cell_type": "code",
   "execution_count": 2,
   "metadata": {},
   "outputs": [],
   "source": [
    "df = pd.DataFrame(columns=[i for i in range(12)])"
   ]
  },
  {
   "cell_type": "code",
   "execution_count": 3,
   "metadata": {},
   "outputs": [],
   "source": [
    "for i in range(12):\n",
    "    df[i] = [j[i] for j in diagnostics]"
   ]
  },
  {
   "cell_type": "code",
   "execution_count": 4,
   "metadata": {},
   "outputs": [],
   "source": [
    "gamma = ''\n",
    "epsilon = ''\n",
    "\n",
    "for i in range(12):\n",
    "    gamma += df[i].mode()[0]\n",
    "    epsilon += '1' if df[i].mode()[0] == '0' else '0'"
   ]
  },
  {
   "cell_type": "code",
   "execution_count": 5,
   "metadata": {},
   "outputs": [
    {
     "name": "stdout",
     "output_type": "stream",
     "text": [
      "110000111111\n",
      "001111000000\n"
     ]
    }
   ],
   "source": [
    "print(gamma)\n",
    "print(epsilon)"
   ]
  },
  {
   "cell_type": "code",
   "execution_count": 6,
   "metadata": {},
   "outputs": [
    {
     "name": "stdout",
     "output_type": "stream",
     "text": [
      "3009600\n",
      "3009600\n"
     ]
    }
   ],
   "source": [
    "# Answer to Part 1\n",
    "print(int(gamma, 2) * int(epsilon, 2)) # Binary to decimal\n",
    "\n",
    "# Alternatively..\n",
    "print(np.dot([int(i) for i in gamma[-1::-1]], [2**i for i in range(12)]) * \\\n",
    "    np.dot([int(i) for i in epsilon[-1::-1]], [2**i for i in range(12)]))"
   ]
  },
  {
   "cell_type": "markdown",
   "metadata": {},
   "source": [
    "#### Part 2"
   ]
  },
  {
   "cell_type": "code",
   "execution_count": 7,
   "metadata": {},
   "outputs": [],
   "source": [
    "def get_oxygen(diagnostics, idx):\n",
    "    \"\"\"Looking for most common bit in the position. If a tie- keep the 1's.\"\"\"\n",
    "    \n",
    "    # Base Case\n",
    "    if len(diagnostics) == 1 : return diagnostics[0]\n",
    "    \n",
    "    # Recursive Case\n",
    "    l = []\n",
    "    counter = Counter([i[idx] for i in diagnostics])\n",
    "    most_common = None\n",
    "    if counter['0'] > counter['1'] :\n",
    "        most_common = '0'\n",
    "    else :\n",
    "        most_common = '1'\n",
    "    \n",
    "    for number in diagnostics:\n",
    "        if number[idx] == most_common:\n",
    "            l.append(number)\n",
    "    return get_oxygen(l, idx+1)\n",
    "\n",
    "def get_co2(diagnostics, idx):\n",
    "    \"\"\"Looking for least common bit in the position. If a tie- keep the 0's.\"\"\"\n",
    "    \n",
    "    # Base Case\n",
    "    if len(diagnostics) == 1 : return diagnostics[0]\n",
    "    \n",
    "    # Recursive Case\n",
    "    l = []\n",
    "    counter = Counter([i[idx] for i in diagnostics])\n",
    "    least_common = None\n",
    "    if counter['1'] < counter['0'] :\n",
    "        least_common = '1'\n",
    "    else :\n",
    "        least_common = '0'\n",
    "    \n",
    "    for number in diagnostics:\n",
    "        if number[idx] == least_common:\n",
    "            l.append(number)\n",
    "    return get_co2(l, idx+1)"
   ]
  },
  {
   "cell_type": "code",
   "execution_count": 8,
   "metadata": {},
   "outputs": [],
   "source": [
    "oxygen_str = get_oxygen(diagnostics, 0)\n",
    "co2_str = get_co2(diagnostics, 0)"
   ]
  },
  {
   "cell_type": "code",
   "execution_count": 9,
   "metadata": {},
   "outputs": [
    {
     "data": {
      "text/plain": [
       "6940518"
      ]
     },
     "execution_count": 9,
     "metadata": {},
     "output_type": "execute_result"
    }
   ],
   "source": [
    "# Answer to Part 2\n",
    "int(oxygen_str, 2) * int(co2_str, 2)"
   ]
  }
 ],
 "metadata": {
  "kernelspec": {
   "display_name": "Python 3",
   "language": "python",
   "name": "python3"
  },
  "language_info": {
   "codemirror_mode": {
    "name": "ipython",
    "version": 3
   },
   "file_extension": ".py",
   "mimetype": "text/x-python",
   "name": "python",
   "nbconvert_exporter": "python",
   "pygments_lexer": "ipython3",
   "version": "3.9.7"
  }
 },
 "nbformat": 4,
 "nbformat_minor": 4
}
