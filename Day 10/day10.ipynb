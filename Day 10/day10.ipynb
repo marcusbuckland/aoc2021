{
 "cells": [
  {
   "cell_type": "markdown",
   "metadata": {},
   "source": [
    "### Advent of Code - Day 10"
   ]
  },
  {
   "cell_type": "markdown",
   "metadata": {},
   "source": [
    "#### Part 1"
   ]
  },
  {
   "cell_type": "code",
   "execution_count": 1,
   "metadata": {},
   "outputs": [],
   "source": [
    "fh = open(\"example_input.txt\", \"r\")\n",
    "contents = fh.read().splitlines()\n",
    "OPEN = ['(', '[', '{', '<']\n",
    "CLOSE = [')', ']', '}', '>']"
   ]
  },
  {
   "cell_type": "code",
   "execution_count": 2,
   "metadata": {},
   "outputs": [
    {
     "name": "stdout",
     "output_type": "stream",
     "text": [
      "Part 1 answer: 26397\n"
     ]
    }
   ],
   "source": [
    "points = dict(zip(CLOSE, [3, 57, 1197, 25137]))\n",
    "score = 0\n",
    "\n",
    "for line in contents:\n",
    "    stack = []\n",
    "    tokens = list(line)\n",
    "    for token in tokens:\n",
    "        if token in OPEN:\n",
    "            stack.append(token)\n",
    "        else:\n",
    "            # It's a close bracket, so the corresponding open bracket \n",
    "            # should be at the top of the stack.\n",
    "            ix = CLOSE.index(token)\n",
    "            if stack.pop() != OPEN[ix] :\n",
    "                score += points[token]\n",
    "\n",
    "print(f\"Part 1 answer: {score}\") # 392097"
   ]
  },
  {
   "cell_type": "markdown",
   "metadata": {},
   "source": [
    "#### Part 2"
   ]
  },
  {
   "cell_type": "code",
   "execution_count": null,
   "metadata": {},
   "outputs": [],
   "source": []
  },
  {
   "cell_type": "code",
   "execution_count": null,
   "metadata": {},
   "outputs": [],
   "source": []
  },
  {
   "cell_type": "code",
   "execution_count": null,
   "metadata": {},
   "outputs": [],
   "source": []
  },
  {
   "cell_type": "code",
   "execution_count": null,
   "metadata": {},
   "outputs": [],
   "source": []
  }
 ],
 "metadata": {
  "interpreter": {
   "hash": "ce45040ef85c52ba356b485034aeffca3231b8092f58cd91350dbeb23fbeb98b"
  },
  "kernelspec": {
   "display_name": "Python 3.9.7 64-bit ('base': conda)",
   "language": "python",
   "name": "python3"
  },
  "language_info": {
   "codemirror_mode": {
    "name": "ipython",
    "version": 3
   },
   "file_extension": ".py",
   "mimetype": "text/x-python",
   "name": "python",
   "nbconvert_exporter": "python",
   "pygments_lexer": "ipython3",
   "version": "3.9.7"
  },
  "orig_nbformat": 4
 },
 "nbformat": 4,
 "nbformat_minor": 2
}
