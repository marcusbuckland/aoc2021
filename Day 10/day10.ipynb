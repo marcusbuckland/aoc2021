{
 "cells": [
  {
   "cell_type": "markdown",
   "metadata": {},
   "source": [
    "### Advent of Code - Day 10"
   ]
  },
  {
   "cell_type": "markdown",
   "metadata": {},
   "source": [
    "#### Part 1 and Part 2"
   ]
  },
  {
   "cell_type": "code",
   "execution_count": 9,
   "metadata": {},
   "outputs": [],
   "source": [
    "import numpy as np\n",
    "\n",
    "fh = open(\"example_input.txt\", \"r\")\n",
    "contents = fh.read().splitlines()\n",
    "OPEN = ['(', '[', '{', '<']\n",
    "CLOSE = [')', ']', '}', '>']"
   ]
  },
  {
   "cell_type": "code",
   "execution_count": 10,
   "metadata": {},
   "outputs": [
    {
     "name": "stdout",
     "output_type": "stream",
     "text": [
      "Part 1 answer: 26397\n",
      "Part 2 answer: 288957\n"
     ]
    }
   ],
   "source": [
    "points_p1 = dict(zip(CLOSE, [3, 57, 1197, 25137])) # Part 1\n",
    "points_p2 = dict(zip(CLOSE, list(range(1,5)))) # Part 2\n",
    "score = 0\n",
    "scores = []\n",
    "\n",
    "for line in contents:\n",
    "    score_p2 = 0\n",
    "    stack = []\n",
    "    tokens = list(line)\n",
    "    for token in tokens:\n",
    "        if token in OPEN:\n",
    "            stack.append(token)\n",
    "        else:\n",
    "            # It's a close bracket, so the corresponding open bracket \n",
    "            # should be at the top of the stack.\n",
    "            ix = CLOSE.index(token)\n",
    "            \n",
    "            if stack.pop() != OPEN[ix]:\n",
    "                # Line is Corrupted.\n",
    "                score += points_p1[token]\n",
    "                stack = [] # Empty the stack if line is corrupted.\n",
    "                break\n",
    "    \n",
    "    # Auto-complete (Part 2)\n",
    "    while stack:\n",
    "        token = stack.pop()\n",
    "        ix = OPEN.index(token)\n",
    "        close = CLOSE[ix]\n",
    "        score_p2 *= 5\n",
    "        score_p2 += points_p2[close]\n",
    "    if score_p2 != 0:\n",
    "        scores.append(score_p2)\n",
    "\n",
    "print(f\"Part 1 answer: {score}\") # 26397 & 392097\n",
    "print(f\"Part 2 answer: {int(np.median(scores))}\") # 288957 & 4263222782"
   ]
  }
 ],
 "metadata": {
  "interpreter": {
   "hash": "ce45040ef85c52ba356b485034aeffca3231b8092f58cd91350dbeb23fbeb98b"
  },
  "kernelspec": {
   "display_name": "Python 3.9.7 64-bit ('base': conda)",
   "language": "python",
   "name": "python3"
  },
  "language_info": {
   "codemirror_mode": {
    "name": "ipython",
    "version": 3
   },
   "file_extension": ".py",
   "mimetype": "text/x-python",
   "name": "python",
   "nbconvert_exporter": "python",
   "pygments_lexer": "ipython3",
   "version": "3.9.7"
  },
  "orig_nbformat": 4
 },
 "nbformat": 4,
 "nbformat_minor": 2
}
