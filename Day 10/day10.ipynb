{
 "cells": [
  {
   "cell_type": "markdown",
   "metadata": {},
   "source": [
    "### Advent of Code - Day 10"
   ]
  },
  {
   "cell_type": "markdown",
   "metadata": {},
   "source": [
    "#### Part 1"
   ]
  },
  {
   "cell_type": "code",
   "execution_count": 16,
   "metadata": {},
   "outputs": [],
   "source": [
    "fh = open(\"example_input.txt\", \"r\")\n",
    "contents = fh.read().splitlines()\n",
    "OPEN_TOKENS = {'(', '[', '{', '<'}\n",
    "CLOSE_TOKENS = {')', ']', '}', '>'}"
   ]
  },
  {
   "cell_type": "code",
   "execution_count": null,
   "metadata": {},
   "outputs": [],
   "source": [
    "def parse(tokens):\n",
    "    token = tokens.pop(0)\n",
    "    assert token in OPEN_TOKENS\n",
    "    \n",
    "    if token == '(' : return parse_parenthesis(tokens)\n",
    "    if token == '[' : return parse_square_brackets(tokens)\n",
    "    if token == '{' : return parse_braces(tokens)\n",
    "    if token == '<' : return parse_angle_brackets(tokens)\n",
    "    \n",
    "    return False\n",
    "\n",
    "def parse_parenthesis(tokens):\n",
    "\n",
    "    pass\n",
    "\n",
    "def parse_square_brackets(tokens):\n",
    "    pass\n",
    "\n",
    "def parse_braces(tokens):\n",
    "    pass\n",
    "\n",
    "def parse_angle_brackets(tokens):\n",
    "    pass"
   ]
  },
  {
   "cell_type": "code",
   "execution_count": 11,
   "metadata": {},
   "outputs": [
    {
     "name": "stdout",
     "output_type": "stream",
     "text": [
      "['[', '(', '{', '(', '<', '(', '(', ')', ')', '[', ']', '>', '[', '[', '{', '[', ']', '{', '<', '(', ')', '<', '>', '>']\n",
      "['[', '(', '(', ')', '[', '<', '>', ']', ')', ']', '(', '{', '[', '<', '{', '<', '<', '[', ']', '>', '>', '(']\n",
      "['{', '(', '[', '(', '<', '{', '}', '[', '<', '>', '[', ']', '}', '>', '{', '[', ']', '{', '[', '(', '<', '(', ')', '>']\n",
      "['(', '(', '(', '(', '{', '<', '>', '}', '<', '{', '<', '{', '<', '>', '}', '{', '[', ']', '{', '[', ']', '{', '}']\n",
      "['[', '[', '<', '[', '(', '[', ']', ')', ')', '<', '(', '[', '[', '{', '}', '[', '[', '(', ')', ']', ']', ']']\n",
      "['[', '{', '[', '{', '(', '{', '}', ']', '{', '}', '}', '(', '[', '{', '[', '{', '{', '{', '}', '}', '(', '[', ']']\n",
      "['{', '<', '[', '[', ']', ']', '>', '}', '<', '{', '[', '{', '[', '{', '[', ']', '{', '(', ')', '[', '[', '[', ']']\n",
      "['[', '<', '(', '<', '(', '<', '(', '<', '{', '}', ')', ')', '>', '<', '(', '[', ']', '(', '[', ']', '(', ')']\n",
      "['<', '{', '(', '[', '(', '[', '[', '(', '<', '>', '(', ')', ')', '{', '}', ']', '>', '(', '<', '<', '{', '{']\n",
      "['<', '{', '(', '[', '{', '{', '}', '}', '[', '<', '[', '[', '[', '<', '>', '{', '}', ']', ']', ']', '>', '[', ']', ']']\n"
     ]
    }
   ],
   "source": [
    "valid_lines = []\n",
    "\n",
    "for line in contents:\n",
    "\n",
    "    tokens = list(line)\n",
    "    parse(tokens)"
   ]
  },
  {
   "cell_type": "code",
   "execution_count": null,
   "metadata": {},
   "outputs": [],
   "source": [
    "def"
   ]
  },
  {
   "cell_type": "markdown",
   "metadata": {},
   "source": [
    "#### Part 2"
   ]
  },
  {
   "cell_type": "code",
   "execution_count": null,
   "metadata": {},
   "outputs": [],
   "source": []
  },
  {
   "cell_type": "code",
   "execution_count": null,
   "metadata": {},
   "outputs": [],
   "source": []
  },
  {
   "cell_type": "code",
   "execution_count": null,
   "metadata": {},
   "outputs": [],
   "source": []
  },
  {
   "cell_type": "code",
   "execution_count": null,
   "metadata": {},
   "outputs": [],
   "source": []
  }
 ],
 "metadata": {
  "interpreter": {
   "hash": "ce45040ef85c52ba356b485034aeffca3231b8092f58cd91350dbeb23fbeb98b"
  },
  "kernelspec": {
   "display_name": "Python 3.9.7 64-bit ('base': conda)",
   "language": "python",
   "name": "python3"
  },
  "language_info": {
   "codemirror_mode": {
    "name": "ipython",
    "version": 3
   },
   "file_extension": ".py",
   "mimetype": "text/x-python",
   "name": "python",
   "nbconvert_exporter": "python",
   "pygments_lexer": "ipython3",
   "version": "3.9.7"
  },
  "orig_nbformat": 4
 },
 "nbformat": 4,
 "nbformat_minor": 2
}
