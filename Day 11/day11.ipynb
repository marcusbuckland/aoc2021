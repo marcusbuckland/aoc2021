{
 "cells": [
  {
   "cell_type": "markdown",
   "metadata": {},
   "source": [
    "### Advent of Code - Day 11"
   ]
  },
  {
   "cell_type": "markdown",
   "metadata": {},
   "source": [
    "#### Part 1"
   ]
  },
  {
   "cell_type": "code",
   "execution_count": 1,
   "metadata": {},
   "outputs": [],
   "source": [
    "import numpy as np\n",
    "\n",
    "fh = open(\"example_input.txt\", \"r\")\n",
    "contents = fh.read().splitlines()"
   ]
  },
  {
   "cell_type": "code",
   "execution_count": 2,
   "metadata": {},
   "outputs": [],
   "source": [
    "octopuses = []\n",
    "for line in contents:\n",
    "    octopuses.append(list(line))\n",
    "\n",
    "energy = np.array(octopuses, dtype=int)"
   ]
  },
  {
   "cell_type": "code",
   "execution_count": 3,
   "metadata": {},
   "outputs": [],
   "source": [
    "def get_flashing_octopuses():\n",
    "    \"\"\"Returns a set of tuples which are the coordinates (row, col)\n",
    "    of ocotpus that are about to flash.\"\"\"\n",
    "    return set(zip(*np.where(energy>9)))"
   ]
  },
  {
   "cell_type": "code",
   "execution_count": 4,
   "metadata": {},
   "outputs": [],
   "source": [
    "def increase_energy_of_adjacent(r, c):\n",
    "    if r != 0: energy[r-1][c] += 1\n",
    "    if r != 9: energy[r+1][c] += 1\n",
    "    if c != 0: energy[r][c-1] += 1\n",
    "    if c != 9: energy[r][c+1] += 1\n",
    "    if r != 0 and c != 0 : energy[r-1][c-1] += 1\n",
    "    if r != 0 and c != 9 : energy[r-1][c+1] += 1\n",
    "    if r != 9 and c != 0 : energy[r+1][c-1] += 1\n",
    "    if r != 9 and c != 9 : energy[r+1][c+1] += 1"
   ]
  },
  {
   "cell_type": "code",
   "execution_count": 5,
   "metadata": {},
   "outputs": [],
   "source": [
    "def flash(r, c):\n",
    "    if has_flashed[r][c] == 1 : return\n",
    "    has_flashed[r][c] = 1\n",
    "    increase_energy_of_adjacent(r, c)\n",
    "    for r, c in get_flashing_octopuses():\n",
    "        flash(r, c)\n",
    "    return"
   ]
  },
  {
   "cell_type": "code",
   "execution_count": 6,
   "metadata": {},
   "outputs": [
    {
     "name": "stdout",
     "output_type": "stream",
     "text": [
      "Part one answer: 1656\n",
      "Part two answer: 195\n"
     ]
    }
   ],
   "source": [
    "num_flashes = []\n",
    "num_steps = 999\n",
    "first_synchronised_step = None\n",
    "\n",
    "for step in range(num_steps):\n",
    "    has_flashed = np.zeros_like(energy, dtype=int)\n",
    "    # First, the energy level of each octopus increases by 1.\n",
    "    energy += 1\n",
    "    # Then, any octopus with an energy level greater than 9 flashes\n",
    "    flashing = get_flashing_octopuses()\n",
    "    for r, c in flashing:\n",
    "        flash(r, c)\n",
    "\n",
    "    # Finally, any octopus that flashed during this step has its \n",
    "    # energy level set to 0\n",
    "    energy[np.where(energy>9)] = 0\n",
    "    num_flashes.append(has_flashed.sum())\n",
    "\n",
    "    if energy.sum() == 0:\n",
    "        first_synchronised_step = step + 1\n",
    "        break\n",
    "\n",
    "ans = sum(num_flashes[:100])\n",
    "print(f\"Part one answer: {ans}\") # 1656 and 1773\n",
    "print(f\"Part two answer: {first_synchronised_step}\") # 195 and 494"
   ]
  }
 ],
 "metadata": {
  "interpreter": {
   "hash": "ce45040ef85c52ba356b485034aeffca3231b8092f58cd91350dbeb23fbeb98b"
  },
  "kernelspec": {
   "display_name": "Python 3.9.7 64-bit ('base': conda)",
   "language": "python",
   "name": "python3"
  },
  "language_info": {
   "codemirror_mode": {
    "name": "ipython",
    "version": 3
   },
   "file_extension": ".py",
   "mimetype": "text/x-python",
   "name": "python",
   "nbconvert_exporter": "python",
   "pygments_lexer": "ipython3",
   "version": "3.9.7"
  },
  "orig_nbformat": 4
 },
 "nbformat": 4,
 "nbformat_minor": 2
}
