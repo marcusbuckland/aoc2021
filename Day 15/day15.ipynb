{
 "cells": [
  {
   "cell_type": "markdown",
   "metadata": {},
   "source": [
    "### Advent of Code - Day 15"
   ]
  },
  {
   "cell_type": "markdown",
   "metadata": {},
   "source": [
    "#### Part 1"
   ]
  },
  {
   "cell_type": "code",
   "execution_count": 1,
   "metadata": {},
   "outputs": [],
   "source": [
    "import numpy as np\n",
    "from queue import PriorityQueue\n",
    "\n",
    "fh = open(\"input.txt\", \"r\")\n",
    "contents = fh.read().splitlines()\n",
    "\n",
    "costs = np.array([list(x) for x in contents], dtype=int)\n",
    "\n",
    "ROW_LIMIT = costs.shape[0] - 1\n",
    "COL_LIMIT = costs.shape[1] - 1\n",
    "START = (0, 0)\n",
    "FINISH = (ROW_LIMIT, COL_LIMIT)"
   ]
  },
  {
   "cell_type": "code",
   "execution_count": 2,
   "metadata": {},
   "outputs": [],
   "source": [
    "# DATA STRUCTURES:\n",
    "# triple (tuple) = <cost, node, prev_node>\n",
    "# node (tuple)   = <row, column>"
   ]
  },
  {
   "cell_type": "code",
   "execution_count": 3,
   "metadata": {},
   "outputs": [],
   "source": [
    "def get_neighbours(node):\n",
    "    neighbours = set()\n",
    "    r, c = node\n",
    "    if r != 0: neighbours.add((r-1, c))\n",
    "    if r != ROW_LIMIT: neighbours.add((r+1, c))\n",
    "    if c != 0: neighbours.add((r, c-1))\n",
    "    if c != COL_LIMIT: neighbours.add((r, c+1))\n",
    "    return neighbours\n",
    "\n",
    "def get_cost(node, part_one=True):\n",
    "    return costs[node] if part_one else costs_p2[node]\n",
    "\n",
    "def triple(cost, node, prev):\n",
    "    return (cost, node, prev)"
   ]
  },
  {
   "cell_type": "code",
   "execution_count": 4,
   "metadata": {},
   "outputs": [
    {
     "name": "stdout",
     "output_type": "stream",
     "text": [
      "Total cost is: 589\n"
     ]
    }
   ],
   "source": [
    "fringe = PriorityQueue()\n",
    "visited = set()\n",
    "\n",
    "fringe.put(triple(0, START, None))\n",
    "\n",
    "while not fringe.empty():\n",
    "    elem = fringe.get()\n",
    "    cost, node, prev = elem\n",
    "\n",
    "    if node not in visited:\n",
    "        visited.add(node)\n",
    "\n",
    "        if node == FINISH:\n",
    "            print(f\"Total cost is: {cost}\") # 40 and 589\n",
    "\n",
    "        for neighbour in get_neighbours(node):\n",
    "            if neighbour not in visited:\n",
    "                cost_to_neighbour = cost + get_cost(neighbour)\n",
    "                fringe.put(triple(cost_to_neighbour, neighbour, elem))\n"
   ]
  },
  {
   "cell_type": "markdown",
   "metadata": {},
   "source": [
    "#### Part 2"
   ]
  },
  {
   "cell_type": "code",
   "execution_count": 5,
   "metadata": {},
   "outputs": [],
   "source": [
    "n_rows = costs.shape[0] * 5\n",
    "n_cols = costs.shape[1] * 5\n",
    "costs_p2 = np.zeros((n_rows, n_cols), dtype=int)\n",
    "\n",
    "ROW_LIMIT = costs_p2.shape[0] - 1\n",
    "COL_LIMIT = costs_p2.shape[1] - 1\n",
    "FINISH = (ROW_LIMIT, COL_LIMIT)"
   ]
  },
  {
   "cell_type": "code",
   "execution_count": 6,
   "metadata": {},
   "outputs": [],
   "source": [
    "def make_tile(n):\n",
    "    new_tile = costs + n\n",
    "    new_values = new_tile[np.where(new_tile > 9)] - 9\n",
    "    new_tile[np.where(new_tile > 9)] = new_values\n",
    "    return new_tile\n",
    "\n",
    "def update_costs_p2():\n",
    "    for i in range(5):\n",
    "        for j in range(5):\n",
    "            costs_p2[i*100:(i+1)*100, j*100:(j+1)*100] = make_tile(i+j)\n",
    "\n",
    "update_costs_p2()"
   ]
  },
  {
   "cell_type": "code",
   "execution_count": 8,
   "metadata": {},
   "outputs": [
    {
     "name": "stdout",
     "output_type": "stream",
     "text": [
      "Total cost is: 2885\n"
     ]
    }
   ],
   "source": [
    "fringe = PriorityQueue()\n",
    "visited = set()\n",
    "\n",
    "fringe.put(((0, START, None)))\n",
    "\n",
    "while not fringe.empty():\n",
    "    elem = fringe.get()\n",
    "    cost, node, prev = elem\n",
    "\n",
    "    if node not in visited:\n",
    "        visited.add(node)\n",
    "\n",
    "        if node == FINISH:\n",
    "            print(f\"Total cost is: {cost}\") # 315 and 2885\n",
    "\n",
    "        for neighbour in get_neighbours(node):\n",
    "            if neighbour not in visited:\n",
    "                cost_to_neighbour = cost + get_cost(neighbour, False)\n",
    "                fringe.put(((cost_to_neighbour, neighbour, elem)))"
   ]
  }
 ],
 "metadata": {
  "interpreter": {
   "hash": "ce45040ef85c52ba356b485034aeffca3231b8092f58cd91350dbeb23fbeb98b"
  },
  "kernelspec": {
   "display_name": "Python 3.9.7 ('base')",
   "language": "python",
   "name": "python3"
  },
  "language_info": {
   "codemirror_mode": {
    "name": "ipython",
    "version": 3
   },
   "file_extension": ".py",
   "mimetype": "text/x-python",
   "name": "python",
   "nbconvert_exporter": "python",
   "pygments_lexer": "ipython3",
   "version": "3.9.7"
  },
  "orig_nbformat": 4
 },
 "nbformat": 4,
 "nbformat_minor": 2
}
