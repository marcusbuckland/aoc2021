{
 "cells": [
  {
   "cell_type": "markdown",
   "metadata": {},
   "source": [
    "### Advent of Code - Day 9"
   ]
  },
  {
   "cell_type": "markdown",
   "metadata": {},
   "source": [
    "#### Part 1"
   ]
  },
  {
   "cell_type": "code",
   "execution_count": 1,
   "metadata": {},
   "outputs": [],
   "source": [
    "import numpy as np\n",
    "\n",
    "fh = open(\"input.txt\", 'r')\n",
    "#fh = open(\"example_input.txt\", 'r')\n",
    "contents = fh.read().splitlines()"
   ]
  },
  {
   "cell_type": "code",
   "execution_count": 2,
   "metadata": {},
   "outputs": [],
   "source": [
    "heights = []\n",
    "\n",
    "for line in contents:\n",
    "    heights.append(list(line))\n",
    "\n",
    "heights = np.array(heights, dtype=int)\n",
    "low_points = set()"
   ]
  },
  {
   "cell_type": "code",
   "execution_count": 3,
   "metadata": {},
   "outputs": [],
   "source": [
    "def is_low(r, c, heights):\n",
    "    \"\"\"\n",
    "    Returns True if the row and column of the heights matrix is a low point, otherwise False\n",
    "    \"\"\"\n",
    "    return check_up(r, c, heights) and check_down(r, c, heights) and \\\n",
    "        check_left(r, c, heights) and check_right(r, c, heights)\n",
    "\n",
    "def check_up(r, c, heights):\n",
    "    # Don't check up if on top row\n",
    "    if r == 0 : return True\n",
    "    return heights[r][c] < heights[r-1][c]\n",
    "\n",
    "def check_down(r, c, heights):\n",
    "    # Don't check down if on bottom row\n",
    "    if r == heights.shape[0]-1 : return True\n",
    "    return heights[r][c] < heights[r+1][c]\n",
    "\n",
    "def check_left(r, c, heights):\n",
    "    # Don't check left if on left-most column\n",
    "    if c == 0: return True\n",
    "    return heights[r][c] < heights[r][c-1]\n",
    "\n",
    "def check_right(r, c, heights):\n",
    "    # Don't check right if on right-most column\n",
    "    if c == heights.shape[1]-1 : return True\n",
    "    return heights[r][c] < heights[r][c+1]"
   ]
  },
  {
   "cell_type": "code",
   "execution_count": 4,
   "metadata": {},
   "outputs": [],
   "source": [
    "for r in range(heights.shape[0]):\n",
    "    for c in range(heights.shape[1]):\n",
    "        if is_low(r, c, heights):\n",
    "            low_points.add((r, c))"
   ]
  },
  {
   "cell_type": "code",
   "execution_count": 5,
   "metadata": {},
   "outputs": [
    {
     "name": "stdout",
     "output_type": "stream",
     "text": [
      "Part 1 answer: 496\n"
     ]
    }
   ],
   "source": [
    "ans = 0\n",
    "for r, c in low_points:\n",
    "    ans += 1 + heights[r][c]\n",
    "\n",
    "print(f\"Part 1 answer: {ans}\") # 15 & 496"
   ]
  },
  {
   "cell_type": "markdown",
   "metadata": {},
   "source": [
    "#### Part 2"
   ]
  },
  {
   "cell_type": "code",
   "execution_count": 6,
   "metadata": {},
   "outputs": [],
   "source": [
    "r, c = np.where(heights==9)\n",
    "walls = set(zip(r, c))"
   ]
  },
  {
   "cell_type": "code",
   "execution_count": 7,
   "metadata": {},
   "outputs": [],
   "source": [
    "def visit(r, c, visited):\n",
    "    # Base case:\n",
    "    if (r, c) in visited or (r, c) in walls: return visited\n",
    "\n",
    "    # Recursive case:\n",
    "    # Add point to visited\n",
    "    visited.add((r, c))\n",
    "\n",
    "    # Visit up neighbour if not top row\n",
    "    if r != 0: visit(r-1, c, visited)\n",
    "    # Visit down neighbour if not bottom row\n",
    "    if r != heights.shape[0]-1: visit(r+1, c, visited)\n",
    "    # Visit left neighbour if not first column\n",
    "    if c != 0: visit(r, c-1, visited)\n",
    "    # Visit right neighbour if not last column\n",
    "    if c != heights.shape[1]-1: visit(r, c+1, visited)\n",
    "    \n",
    "    return visited"
   ]
  },
  {
   "cell_type": "code",
   "execution_count": 8,
   "metadata": {},
   "outputs": [
    {
     "name": "stdout",
     "output_type": "stream",
     "text": [
      "Part 2 answer: 902880\n"
     ]
    }
   ],
   "source": [
    "basin_sizes = []\n",
    "\n",
    "for r, c in low_points:\n",
    "    visited = visit(r, c, set())\n",
    "    size = len(visited)\n",
    "    basin_sizes.append(size)\n",
    "\n",
    "arr = np.array(basin_sizes)\n",
    "ans = np.prod(np.partition(arr, -3)[-3:])\n",
    "print(f\"Part 2 answer: {ans}\") # 1134 & 902880\n"
   ]
  }
 ],
 "metadata": {
  "interpreter": {
   "hash": "ce45040ef85c52ba356b485034aeffca3231b8092f58cd91350dbeb23fbeb98b"
  },
  "kernelspec": {
   "display_name": "Python 3.9.7 64-bit ('base': conda)",
   "language": "python",
   "name": "python3"
  },
  "language_info": {
   "codemirror_mode": {
    "name": "ipython",
    "version": 3
   },
   "file_extension": ".py",
   "mimetype": "text/x-python",
   "name": "python",
   "nbconvert_exporter": "python",
   "pygments_lexer": "ipython3",
   "version": "3.9.7"
  },
  "orig_nbformat": 4
 },
 "nbformat": 4,
 "nbformat_minor": 2
}
