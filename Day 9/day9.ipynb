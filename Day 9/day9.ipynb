{
 "cells": [
  {
   "cell_type": "markdown",
   "metadata": {},
   "source": [
    "### Advent of Code - Day 9"
   ]
  },
  {
   "cell_type": "markdown",
   "metadata": {},
   "source": [
    "#### Part 1"
   ]
  },
  {
   "cell_type": "code",
   "execution_count": 1,
   "metadata": {},
   "outputs": [],
   "source": [
    "import numpy as np\n",
    "\n",
    "fh = open(\"input.txt\", 'r')\n",
    "contents = fh.read().splitlines()"
   ]
  },
  {
   "cell_type": "code",
   "execution_count": 2,
   "metadata": {},
   "outputs": [],
   "source": [
    "heights = []\n",
    "\n",
    "for line in contents:\n",
    "    heights.append(list(line))\n",
    "\n",
    "heights = np.array(heights, dtype=int)\n",
    "low_points = np.ones_like(heights, dtype=float)"
   ]
  },
  {
   "cell_type": "code",
   "execution_count": 3,
   "metadata": {},
   "outputs": [
    {
     "data": {
      "text/plain": [
       "array([[1., 1., 1., ..., 1., 1., 1.],\n",
       "       [1., 1., 1., ..., 1., 1., 1.],\n",
       "       [1., 1., 1., ..., 1., 1., 1.],\n",
       "       ...,\n",
       "       [1., 1., 1., ..., 1., 1., 1.],\n",
       "       [1., 1., 1., ..., 1., 1., 1.],\n",
       "       [1., 1., 1., ..., 1., 1., 1.]])"
      ]
     },
     "execution_count": 3,
     "metadata": {},
     "output_type": "execute_result"
    }
   ],
   "source": [
    "heights\n",
    "low_points"
   ]
  },
  {
   "cell_type": "code",
   "execution_count": 4,
   "metadata": {},
   "outputs": [],
   "source": [
    "def check_if_low(row, col, heights):\n",
    "    return check_up(row, col, heights) and check_down(row, col, heights) and \\\n",
    "        check_left(row, col, heights) and check_right(row, col, heights)\n",
    "\n",
    "\n",
    "def check_up(row, col, heights):\n",
    "    # Don't check up if on top row\n",
    "    if row == 0 : return True\n",
    "    return heights[row][col] < heights[row-1][col]\n",
    "\n",
    "\n",
    "def check_down(row, col, heights):\n",
    "    # Don't check down if on bottom row\n",
    "    if row == heights.shape[0]-1 : return True\n",
    "    return heights[row][col] < heights[row+1][col]\n",
    "\n",
    "\n",
    "def check_left(row, col, heights):\n",
    "    # Don't check left if on left-most column\n",
    "    if col == 0: return True\n",
    "    return heights[row][col] < heights[row][col-1]\n",
    "\n",
    "\n",
    "def check_right(row, col, heights):\n",
    "    if col == heights.shape[1]-1 : return True\n",
    "    return heights[row][col] < heights[row][col+1]\n"
   ]
  },
  {
   "cell_type": "code",
   "execution_count": 5,
   "metadata": {},
   "outputs": [],
   "source": [
    "for row in range(heights.shape[0]):\n",
    "    for col in range(heights.shape[1]):\n",
    "        is_low = check_if_low(row, col, heights)\n",
    "        if is_low:\n",
    "            low_points[row][col] = 0.0"
   ]
  },
  {
   "cell_type": "code",
   "execution_count": 13,
   "metadata": {},
   "outputs": [
    {
     "name": "stdout",
     "output_type": "stream",
     "text": [
      "Part 1 answer: 496\n"
     ]
    }
   ],
   "source": [
    "ans = int(np.sum(np.ma.masked_array(heights, low_points, dtype=np.float64) + 1.0))\n",
    "print(f\"Part 1 answer: {ans}\")"
   ]
  },
  {
   "cell_type": "code",
   "execution_count": null,
   "metadata": {},
   "outputs": [],
   "source": []
  },
  {
   "cell_type": "code",
   "execution_count": null,
   "metadata": {},
   "outputs": [],
   "source": []
  },
  {
   "cell_type": "code",
   "execution_count": null,
   "metadata": {},
   "outputs": [],
   "source": []
  },
  {
   "cell_type": "code",
   "execution_count": null,
   "metadata": {},
   "outputs": [],
   "source": []
  },
  {
   "cell_type": "code",
   "execution_count": null,
   "metadata": {},
   "outputs": [],
   "source": []
  },
  {
   "cell_type": "code",
   "execution_count": null,
   "metadata": {},
   "outputs": [],
   "source": []
  },
  {
   "cell_type": "code",
   "execution_count": null,
   "metadata": {},
   "outputs": [],
   "source": []
  },
  {
   "cell_type": "code",
   "execution_count": null,
   "metadata": {},
   "outputs": [],
   "source": []
  },
  {
   "cell_type": "markdown",
   "metadata": {},
   "source": [
    "#### Part 2"
   ]
  },
  {
   "cell_type": "code",
   "execution_count": null,
   "metadata": {},
   "outputs": [],
   "source": []
  },
  {
   "cell_type": "code",
   "execution_count": null,
   "metadata": {},
   "outputs": [],
   "source": []
  },
  {
   "cell_type": "code",
   "execution_count": null,
   "metadata": {},
   "outputs": [],
   "source": []
  },
  {
   "cell_type": "code",
   "execution_count": null,
   "metadata": {},
   "outputs": [],
   "source": []
  }
 ],
 "metadata": {
  "interpreter": {
   "hash": "ce45040ef85c52ba356b485034aeffca3231b8092f58cd91350dbeb23fbeb98b"
  },
  "kernelspec": {
   "display_name": "Python 3.9.7 64-bit ('base': conda)",
   "language": "python",
   "name": "python3"
  },
  "language_info": {
   "codemirror_mode": {
    "name": "ipython",
    "version": 3
   },
   "file_extension": ".py",
   "mimetype": "text/x-python",
   "name": "python",
   "nbconvert_exporter": "python",
   "pygments_lexer": "ipython3",
   "version": "3.9.7"
  },
  "orig_nbformat": 4
 },
 "nbformat": 4,
 "nbformat_minor": 2
}
