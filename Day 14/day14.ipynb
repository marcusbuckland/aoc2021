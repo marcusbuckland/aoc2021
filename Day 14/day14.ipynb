{
 "cells": [
  {
   "cell_type": "markdown",
   "metadata": {},
   "source": [
    "### Advent of Code - Day 14"
   ]
  },
  {
   "cell_type": "markdown",
   "metadata": {},
   "source": [
    "#### Part 1"
   ]
  },
  {
   "cell_type": "code",
   "execution_count": 1,
   "metadata": {},
   "outputs": [],
   "source": [
    "import re\n",
    "from collections import Counter\n",
    "\n",
    "fh = open(\"input.txt\", \"r\")\n",
    "template, content = fh.read().split(\"\\n\\n\")\n",
    "s = template\n",
    "\n",
    "rules = {}\n",
    "for rule in content.splitlines():\n",
    "    k, v = rule.split(\" -> \")\n",
    "    rules[k] = v"
   ]
  },
  {
   "cell_type": "code",
   "execution_count": 2,
   "metadata": {},
   "outputs": [],
   "source": [
    "def find_all(sub, st):\n",
    "    return [m.start()+1 for m in re.finditer('(?=' + sub + ')', st)]"
   ]
  },
  {
   "cell_type": "code",
   "execution_count": 3,
   "metadata": {},
   "outputs": [],
   "source": [
    "STEPS = 10\n",
    "\n",
    "for i in range(STEPS):\n",
    "    inserts = []\n",
    "    for k, v in rules.items():\n",
    "        if template.find(k) != -1:\n",
    "            ixs = find_all(k, template)\n",
    "            for ix in ixs:\n",
    "                inserts.append((ix, v))\n",
    "    \n",
    "    char_list = list(template)\n",
    "    for ix, c in sorted(inserts, key=lambda x: x[0], reverse=True):\n",
    "        char_list.insert(ix, c)\n",
    "    template = \"\".join(char_list)"
   ]
  },
  {
   "cell_type": "code",
   "execution_count": 4,
   "metadata": {},
   "outputs": [
    {
     "name": "stdout",
     "output_type": "stream",
     "text": [
      "Answer to Part one: 2768\n"
     ]
    }
   ],
   "source": [
    "c = Counter(template)\n",
    "ans = c.most_common()[0][1] - c.most_common()[-1][1]\n",
    "print(f\"Answer to Part one: {ans}\") # 1588 and 2768"
   ]
  },
  {
   "cell_type": "markdown",
   "metadata": {},
   "source": [
    "#### Part 2"
   ]
  },
  {
   "cell_type": "code",
   "execution_count": 5,
   "metadata": {},
   "outputs": [],
   "source": [
    "STEPS = 40\n",
    "pairs = Counter()\n",
    "\n",
    "for i in range(len(s)-1):\n",
    "     pair = s[i:i+2]\n",
    "     pairs[pair] += 1\n",
    "\n",
    "for _ in range(STEPS):\n",
    "    updated_pairs = Counter()\n",
    "    elements = Counter()\n",
    "    for k, v in pairs.items():\n",
    "         first_pair = k[0] + rules[k]\n",
    "         second_pair = rules[k] + k[1]\n",
    "         updated_pairs[first_pair] += v\n",
    "         updated_pairs[second_pair] += v\n",
    "         \n",
    "         elements[k[0]] += v\n",
    "         elements[rules[k]] += v\n",
    "\n",
    "    pairs = updated_pairs\n",
    "\n",
    "# Add last element\n",
    "elements[s[-1]] += 1"
   ]
  },
  {
   "cell_type": "code",
   "execution_count": 6,
   "metadata": {},
   "outputs": [
    {
     "name": "stdout",
     "output_type": "stream",
     "text": [
      "Answer to Part two: 2914365137499\n"
     ]
    }
   ],
   "source": [
    "ans = elements.most_common()[0][1] - elements.most_common()[-1][1]\n",
    "print(f\"Answer to Part two: {ans}\") # 2188189693529 and 2914365137499"
   ]
  }
 ],
 "metadata": {
  "interpreter": {
   "hash": "ce45040ef85c52ba356b485034aeffca3231b8092f58cd91350dbeb23fbeb98b"
  },
  "kernelspec": {
   "display_name": "Python 3.9.7 ('base')",
   "language": "python",
   "name": "python3"
  },
  "language_info": {
   "codemirror_mode": {
    "name": "ipython",
    "version": 3
   },
   "file_extension": ".py",
   "mimetype": "text/x-python",
   "name": "python",
   "nbconvert_exporter": "python",
   "pygments_lexer": "ipython3",
   "version": "3.9.7"
  },
  "orig_nbformat": 4
 },
 "nbformat": 4,
 "nbformat_minor": 2
}
