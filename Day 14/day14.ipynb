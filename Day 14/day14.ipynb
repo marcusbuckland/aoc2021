{
 "cells": [
  {
   "cell_type": "markdown",
   "metadata": {},
   "source": [
    "### Advent of Code - Day 14"
   ]
  },
  {
   "cell_type": "markdown",
   "metadata": {},
   "source": [
    "#### Part 1"
   ]
  },
  {
   "cell_type": "code",
   "execution_count": 1,
   "metadata": {},
   "outputs": [],
   "source": [
    "# Example input\n",
    "\n",
    "fh = open(\"example_input.txt\", \"r\")\n",
    "template, content = fh.read().split(\"\\n\\n\")\n",
    "\n",
    "rules = {}\n",
    "for rule in content.splitlines():\n",
    "    k, v = rule.split(\" -> \")\n",
    "    rules[k] = v"
   ]
  },
  {
   "cell_type": "code",
   "execution_count": 3,
   "metadata": {},
   "outputs": [
    {
     "name": "stdout",
     "output_type": "stream",
     "text": [
      "0 NNCB\n",
      "1 NCNBCHB\n",
      "2 NBCCNBBBCBHCB\n",
      "3 NBBBCNCCNBNBBCHBHHBCB\n"
     ]
    }
   ],
   "source": [
    "template = 'NNCB'\n",
    "\n",
    "for i in range(4):\n",
    "    print(i, template)\n",
    "    inserts = []\n",
    "    for k, v in rules.items():\n",
    "        if template.find(k) != -1:\n",
    "            ix = template.find(k)\n",
    "            inserts.append((ix+1, v))\n",
    "\n",
    "    char_list = list(template)\n",
    "    for ix, c in sorted(inserts, key=lambda x: x[0], reverse=True):\n",
    "        char_list.insert(ix, c)\n",
    "    template = \"\".join(char_list)"
   ]
  },
  {
   "cell_type": "code",
   "execution_count": null,
   "metadata": {},
   "outputs": [],
   "source": [
    "\"\"\"\n",
    "Template:     NNCB\n",
    "After step 1: NCNBCHB\n",
    "After step 2: NBCCNBBBCBHCB\n",
    "After step 3: NBBBCNCCNBBNBNBBCHBHHBCHB\n",
    "After step 4: NBBNBNBBCCNBCNCCNBBNBBNBBBNBBNBBCBHCBHHNHCBBCBHCB\n",
    "\"\"\""
   ]
  },
  {
   "cell_type": "code",
   "execution_count": null,
   "metadata": {},
   "outputs": [],
   "source": [
    "# NBBBCNCCNBBNBNBBCHBHHBCHB\n",
    "# NBBBCNCCNBNBBCHBHHBCB"
   ]
  }
 ],
 "metadata": {
  "interpreter": {
   "hash": "ce45040ef85c52ba356b485034aeffca3231b8092f58cd91350dbeb23fbeb98b"
  },
  "kernelspec": {
   "display_name": "Python 3.9.7 ('base')",
   "language": "python",
   "name": "python3"
  },
  "language_info": {
   "codemirror_mode": {
    "name": "ipython",
    "version": 3
   },
   "file_extension": ".py",
   "mimetype": "text/x-python",
   "name": "python",
   "nbconvert_exporter": "python",
   "pygments_lexer": "ipython3",
   "version": "3.9.7"
  },
  "orig_nbformat": 4
 },
 "nbformat": 4,
 "nbformat_minor": 2
}
