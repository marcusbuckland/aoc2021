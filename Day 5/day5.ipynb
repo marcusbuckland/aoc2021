{
 "cells": [
  {
   "cell_type": "markdown",
   "metadata": {},
   "source": [
    "### Advent of Code - Day 5"
   ]
  },
  {
   "cell_type": "code",
   "execution_count": 2,
   "metadata": {},
   "outputs": [],
   "source": [
    "# Part 1\n",
    "import numpy as np\n",
    "import math\n",
    "fh = open(\"input.txt\", 'r')\n",
    "contents = fh.read().splitlines()\n",
    "\n",
    "# data = [ [x1, y1, x2, y2], [x1, y1, x2, y2]...]\n",
    "data = []\n",
    "\n",
    "for line in contents:\n",
    "    data.append(list(map(int, line.replace(\" -> \", \",\").split(\",\"))))"
   ]
  },
  {
   "cell_type": "code",
   "execution_count": null,
   "metadata": {},
   "outputs": [],
   "source": [
    "# Only consider horizontal or vertical lines for Part 1\n",
    "filtered_data = list(filter(lambda x: x[0] == x[2] or x[1] == x[3], data))"
   ]
  },
  {
   "cell_type": "code",
   "execution_count": null,
   "metadata": {},
   "outputs": [],
   "source": [
    "# Find the Maximum and Minimum values in the list.\n",
    "MAX_VALUE = -math.inf\n",
    "MIN_VALUE = math.inf\n",
    "\n",
    "for l in filtered_data:\n",
    "    MAX_VALUE = max(l) if max(l) > MAX_VALUE else MAX_VALUE\n",
    "    MIN_VALUE = min(l) if min(l) < MIN_VALUE else MIN_VALUE\n",
    "\n",
    "print(MAX_VALUE) # 990\n",
    "print(MIN_VALUE) # 11"
   ]
  },
  {
   "cell_type": "code",
   "execution_count": null,
   "metadata": {},
   "outputs": [],
   "source": [
    "# Alternatively, use numpy to get the max and min\n",
    "print(np.max(filtered_data))\n",
    "print(np.min(filtered_data))"
   ]
  },
  {
   "cell_type": "markdown",
   "metadata": {},
   "source": [
    "With a minimum of 11 and a maximum of 990, a 1000 x 1000 matrix is an appropriate size to use."
   ]
  },
  {
   "cell_type": "code",
   "execution_count": null,
   "metadata": {},
   "outputs": [],
   "source": [
    "hits = np.zeros(shape=(1000,1000))\n",
    "\n",
    "for line in filtered_data:\n",
    "    x1, y1, x2, y2 = line\n",
    "\n",
    "    # Vertical lines\n",
    "    if x1 == x2:\n",
    "        y1, y2 = min(y1,y2), max(y1, y2)\n",
    "        while y1 <= y2:\n",
    "            hits[x1][y1] += 1.0\n",
    "            y1 += 1\n",
    "\n",
    "    # Horizontal lines\n",
    "    else:\n",
    "        x1, x2 = min(x1, x2), max(x1, x2)\n",
    "        while x1 <= x2:\n",
    "            hits[x1][y1] += 1.0\n",
    "            x1 += 1\n"
   ]
  },
  {
   "cell_type": "code",
   "execution_count": null,
   "metadata": {},
   "outputs": [],
   "source": [
    "# Get the answer to part 1.\n",
    "print(len(np.where(hits > 1)[0]))\n",
    "\n",
    "# Or alternatively\n",
    "print(np.sum(hits > 1))"
   ]
  },
  {
   "cell_type": "code",
   "execution_count": null,
   "metadata": {},
   "outputs": [],
   "source": [
    "# Part 2\n",
    "\n",
    "import numpy as np\n",
    "import math\n",
    "fh = open(\"input.txt\", 'r')\n",
    "contents = fh.read().splitlines()\n",
    "\n",
    "# data = [ [x1, y1, x2, y2], [x1, y1, x2, y2]...]\n",
    "data = []\n",
    "\n",
    "for line in contents:\n",
    "    data.append(list(map(int, line.replace(\" -> \", \",\").split(\",\"))))"
   ]
  },
  {
   "cell_type": "markdown",
   "metadata": {},
   "source": [
    "1000 x 1000 still an appropriate size even with considering diagonal lines too."
   ]
  },
  {
   "cell_type": "code",
   "execution_count": null,
   "metadata": {},
   "outputs": [],
   "source": [
    "diagonals = list(filter(lambda x: not(x[0] == x[2] or x[1] == x[3]), data))"
   ]
  },
  {
   "cell_type": "code",
   "execution_count": 8,
   "metadata": {},
   "outputs": [],
   "source": [
    "hits = np.zeros(shape=(1000,1000))\n",
    "\n",
    "for line in data:\n",
    "    x1, y1, x2, y2 = line\n",
    "\n",
    "    # Vertical lines\n",
    "    if x1 == x2:\n",
    "        y1, y2 = min(y1, y2), max(y1, y2)\n",
    "        while y1 <= y2:\n",
    "            hits[x1][y1] += 1.0\n",
    "            y1 += 1\n",
    "\n",
    "    # Horizontal lines\n",
    "    elif y1 == y2:\n",
    "        x1, x2 = min(x1, x2), max(x1, x2)\n",
    "        while x1 <= x2:\n",
    "            hits[x1][y1] += 1.0\n",
    "            x1 += 1"
   ]
  },
  {
   "cell_type": "code",
   "execution_count": 9,
   "metadata": {},
   "outputs": [
    {
     "name": "stdout",
     "output_type": "stream",
     "text": [
      "5442\n"
     ]
    }
   ],
   "source": [
    "# Or alternatively\n",
    "print(np.sum(hits > 1))"
   ]
  },
  {
   "cell_type": "code",
   "execution_count": 5,
   "metadata": {},
   "outputs": [
    {
     "name": "stdout",
     "output_type": "stream",
     "text": [
      "23017\n"
     ]
    }
   ],
   "source": [
    "print(len(np.where(hits > 1)[0]))"
   ]
  },
  {
   "cell_type": "code",
   "execution_count": null,
   "metadata": {},
   "outputs": [],
   "source": [
    "# 23038 not the correct answer, is too high.\n",
    "# 23017 is too high.\n",
    "\n"
   ]
  }
 ],
 "metadata": {
  "interpreter": {
   "hash": "ce45040ef85c52ba356b485034aeffca3231b8092f58cd91350dbeb23fbeb98b"
  },
  "kernelspec": {
   "display_name": "Python 3.9.7 64-bit ('base': conda)",
   "language": "python",
   "name": "python3"
  },
  "language_info": {
   "codemirror_mode": {
    "name": "ipython",
    "version": 3
   },
   "file_extension": ".py",
   "mimetype": "text/x-python",
   "name": "python",
   "nbconvert_exporter": "python",
   "pygments_lexer": "ipython3",
   "version": "3.9.7"
  },
  "orig_nbformat": 4
 },
 "nbformat": 4,
 "nbformat_minor": 2
}
