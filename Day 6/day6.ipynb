{
 "cells": [
  {
   "cell_type": "markdown",
   "metadata": {},
   "source": [
    "### Advent of Code - Day 6"
   ]
  },
  {
   "cell_type": "markdown",
   "metadata": {},
   "source": [
    "#### Part 1"
   ]
  },
  {
   "cell_type": "code",
   "execution_count": 32,
   "metadata": {},
   "outputs": [
    {
     "name": "stdout",
     "output_type": "stream",
     "text": [
      "Initial state: [3, 4, 3, 1, 2]\n",
      "Day 1: [2, 3, 2, 0, 1]\n",
      "Day 2: [1, 2, 1, 6, 0, 8]\n",
      "Day 3: [0, 1, 0, 5, 6, 7, 8]\n",
      "Day 4: [6, 0, 6, 4, 5, 6, 7, 8, 8]\n",
      "Day 5: [5, 6, 5, 3, 4, 5, 6, 7, 7, 8]\n",
      "Day 6: [4, 5, 4, 2, 3, 4, 5, 6, 6, 7]\n",
      "Day 7: [3, 4, 3, 1, 2, 3, 4, 5, 5, 6]\n",
      "Day 8: [2, 3, 2, 0, 1, 2, 3, 4, 4, 5]\n",
      "Day 9: [1, 2, 1, 6, 0, 1, 2, 3, 3, 4, 8]\n",
      "Day 10: [0, 1, 0, 5, 6, 0, 1, 2, 2, 3, 7, 8]\n",
      "Day 11: [6, 0, 6, 4, 5, 6, 0, 1, 1, 2, 6, 7, 8, 8, 8]\n",
      "Day 12: [5, 6, 5, 3, 4, 5, 6, 0, 0, 1, 5, 6, 7, 7, 7, 8, 8]\n",
      "Day 13: [4, 5, 4, 2, 3, 4, 5, 6, 6, 0, 4, 5, 6, 6, 6, 7, 7, 8, 8]\n",
      "Day 14: [3, 4, 3, 1, 2, 3, 4, 5, 5, 6, 3, 4, 5, 5, 5, 6, 6, 7, 7, 8]\n",
      "Day 15: [2, 3, 2, 0, 1, 2, 3, 4, 4, 5, 2, 3, 4, 4, 4, 5, 5, 6, 6, 7]\n",
      "Day 16: [1, 2, 1, 6, 0, 1, 2, 3, 3, 4, 1, 2, 3, 3, 3, 4, 4, 5, 5, 6, 8]\n",
      "Day 17: [0, 1, 0, 5, 6, 0, 1, 2, 2, 3, 0, 1, 2, 2, 2, 3, 3, 4, 4, 5, 7, 8]\n",
      "Day 18: [6, 0, 6, 4, 5, 6, 0, 1, 1, 2, 6, 0, 1, 1, 1, 2, 2, 3, 3, 4, 6, 7, 8, 8, 8, 8]\n"
     ]
    }
   ],
   "source": [
    "# Smaller problem before getting the input\n",
    "fish = [3, 4, 3, 1, 2]\n",
    "print(f\"Initial state: {fish}\")\n",
    "for i in range(1, 19):\n",
    "    fish += [9] * fish.count(0) # Add new fish\n",
    "    fish = list(map(lambda x: x-1 if x>0 else 6, fish)) # Decrement each fish by 1 day.\n",
    "    print(f\"Day {i}: {fish}\")\n",
    "\n",
    "# Appears to match the example on the website.."
   ]
  },
  {
   "cell_type": "code",
   "execution_count": 45,
   "metadata": {},
   "outputs": [
    {
     "name": "stdout",
     "output_type": "stream",
     "text": [
      "Part 1 answer: 346063\n"
     ]
    }
   ],
   "source": [
    "fh = open(\"input.txt\")\n",
    "contents = fh.read()\n",
    "fish = list(map(int, contents.split(\",\")))\n",
    "\n",
    "num_days = 80\n",
    "for i in range(num_days):\n",
    "    fish += [9] * fish.count(0) # Add new fish\n",
    "    fish = list(map(lambda x: x-1 if x>0 else 6, fish)) # Decrement each fish by 1 day.\n",
    "\n",
    "print(f\"Part 1 answer:\", len(fish)) # 34063"
   ]
  },
  {
   "cell_type": "markdown",
   "metadata": {},
   "source": [
    "#### Part 2"
   ]
  },
  {
   "cell_type": "code",
   "execution_count": null,
   "metadata": {},
   "outputs": [],
   "source": []
  },
  {
   "cell_type": "code",
   "execution_count": null,
   "metadata": {},
   "outputs": [],
   "source": []
  },
  {
   "cell_type": "code",
   "execution_count": null,
   "metadata": {},
   "outputs": [],
   "source": []
  },
  {
   "cell_type": "code",
   "execution_count": null,
   "metadata": {},
   "outputs": [],
   "source": []
  },
  {
   "cell_type": "code",
   "execution_count": null,
   "metadata": {},
   "outputs": [],
   "source": []
  },
  {
   "cell_type": "code",
   "execution_count": null,
   "metadata": {},
   "outputs": [],
   "source": []
  }
 ],
 "metadata": {
  "interpreter": {
   "hash": "ce45040ef85c52ba356b485034aeffca3231b8092f58cd91350dbeb23fbeb98b"
  },
  "kernelspec": {
   "display_name": "Python 3.9.7 64-bit ('base': conda)",
   "language": "python",
   "name": "python3"
  },
  "language_info": {
   "codemirror_mode": {
    "name": "ipython",
    "version": 3
   },
   "file_extension": ".py",
   "mimetype": "text/x-python",
   "name": "python",
   "nbconvert_exporter": "python",
   "pygments_lexer": "ipython3",
   "version": "3.9.7"
  },
  "orig_nbformat": 4
 },
 "nbformat": 4,
 "nbformat_minor": 2
}
